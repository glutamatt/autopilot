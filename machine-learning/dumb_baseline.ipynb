{
 "cells": [
  {
   "cell_type": "code",
   "execution_count": 1,
   "metadata": {},
   "outputs": [
    {
     "data": {
      "text/html": [
       "<style>.container { width:100% !important; }</style>"
      ],
      "text/plain": [
       "<IPython.core.display.HTML object>"
      ]
     },
     "metadata": {},
     "output_type": "display_data"
    }
   ],
   "source": [
    "from IPython.core.display import display, HTML\n",
    "display(HTML(\"<style>.container { width:100% !important; }</style>\"))"
   ]
  },
  {
   "cell_type": "code",
   "execution_count": 2,
   "metadata": {},
   "outputs": [
    {
     "name": "stderr",
     "output_type": "stream",
     "text": [
      "Using TensorFlow backend.\n"
     ]
    }
   ],
   "source": [
    "import pandas as pd\n",
    "import numpy as np\n",
    "import tensorflow as tf\n",
    "import glob\n",
    "from keras.layers import Input, Lambda, Conv2D, MaxPooling2D, Flatten, Concatenate, Dense, BatchNormalization, Dropout\n",
    "from keras.models import Model\n",
    "from matplotlib import pyplot"
   ]
  },
  {
   "cell_type": "code",
   "execution_count": 39,
   "metadata": {},
   "outputs": [
    {
     "name": "stdout",
     "output_type": "stream",
     "text": [
      "Loading data/autopilot_2019_03_18__13_17_35.csv\n",
      "Loading data/autopilot_2019_03_18__13_20_22.csv\n",
      "Loading data/autopilot_2019_03_17__02_57_50.csv\n",
      "Loading data/autopilot_2019_03_17__03_55_47.csv\n",
      "Loading data/autopilot_2019_03_18__12_42_35.csv\n",
      "Loading data/autopilot_2019_03_17__03_57_58.csv\n",
      "Loading data/autopilot_2019_03_18__13_19_00.csv\n",
      "Loading data/autopilot_2019_03_17__03_51_44.csv\n",
      "Loading data/autopilot_2019_03_18__13_16_35.csv\n",
      "Loading data/autopilot_2019_03_18__12_44_29.csv\n",
      "Loading data/autopilot_2019_03_18__13_09_23.csv\n",
      "Loading data/autopilot_2019_03_17__03_54_00.csv\n",
      "Loading data/autopilot_2019_03_18__12_43_28.csv\n",
      "Loading data/autopilot_2019_03_17__03_53_15.csv\n",
      "Loading data/autopilot_2019_03_18__12_41_36.csv\n",
      "Loading data/autopilot_2019_03_17__02_59_54.csv\n",
      "Loading data/autopilot_2019_03_18__13_08_17.csv\n",
      "Loading data/autopilot_2019_03_18__12_41_05.csv\n",
      "Loading data/autopilot_2019_03_17__03_54_47.csv\n",
      "Loading data/autopilot_2019_03_17__03_59_32.csv\n",
      "Loading data/autopilot_2019_03_18__13_15_29.csv\n",
      "Loading data/autopilot_2019_03_17__03_57_05.csv\n",
      "Loading data/autopilot_2019_03_17__03_58_42.csv\n",
      "Loading data/autopilot_2019_03_18__13_14_33.csv\n",
      "Loading data/autopilot_2019_03_18__13_10_01.csv\n",
      "Loading data/autopilot_2019_03_17__03_52_34.csv\n",
      "Loading data/autopilot_2019_03_17__02_58_50.csv\n",
      "Loading data/autopilot_2019_03_17__02_57_04.csv\n",
      "Loading data/autopilot_2019_03_18__12_40_09.csv\n"
     ]
    }
   ],
   "source": [
    "all_files = glob.glob(\"data/*.csv\")\n",
    "li = []\n",
    "for filename in all_files:\n",
    "    print(\"Loading\", filename)\n",
    "    df = pd.read_csv(filename, header=None)\n",
    "    df.drop(df.tail(1).index,inplace=True)\n",
    "    li.append(df)\n",
    "\n",
    "dataset = pd.concat(li, axis=0).sample(frac=1)\n",
    "Y_data = dataset.iloc[:,-2:]\n",
    "X_data = dataset.iloc[:,:-2]"
   ]
  },
  {
   "cell_type": "code",
   "execution_count": 40,
   "metadata": {},
   "outputs": [
    {
     "name": "stdout",
     "output_type": "stream",
     "text": [
      "2271 feature values\n",
      "2 output values\n",
      "41455 training lines\n",
      "846 testing lines\n"
     ]
    }
   ],
   "source": [
    "split_offset = int(X_data.shape[0] * .02)\n",
    "Y_test  = Y_data.iloc[:split_offset,:]\n",
    "Y_train = Y_data.iloc[split_offset:,:]\n",
    "X_test  = X_data.iloc[:split_offset,:]\n",
    "X_train = X_data.iloc[split_offset:,:]\n",
    "assert X_train.shape[1] == X_test.shape[1]\n",
    "assert Y_train.shape[1] == Y_test.shape[1]\n",
    "assert X_train.shape[0] == Y_train.shape[0]\n",
    "assert X_test.shape[0] == Y_test.shape[0]\n",
    "print(X_train.shape[1], \"feature values\")\n",
    "print(Y_train.shape[1], \"output values\")\n",
    "print(X_train.shape[0], \"training lines\")\n",
    "print(Y_test.shape[0], \"testing lines\")"
   ]
  },
  {
   "cell_type": "code",
   "execution_count": 41,
   "metadata": {},
   "outputs": [],
   "source": [
    "first_selfcar_inputs = 3\n",
    "features_by_car = 6\n",
    "cells_by_row = 18\n",
    "blocks_offset = first_selfcar_inputs + cells_by_row * cells_by_row * features_by_car\n",
    "\n",
    "raw_input = Input(shape=(X_train.shape[1],), name='raw_input')\n",
    "\n",
    "driving = Lambda(lambda x: tf.constant([[0.0, 0.6]]), output_shape=(2,))(raw_input)"
   ]
  },
  {
   "cell_type": "code",
   "execution_count": 42,
   "metadata": {},
   "outputs": [
    {
     "name": "stdout",
     "output_type": "stream",
     "text": [
      "_________________________________________________________________\n",
      "Layer (type)                 Output Shape              Param #   \n",
      "=================================================================\n",
      "raw_input (InputLayer)       (None, 2271)              0         \n",
      "_________________________________________________________________\n",
      "lambda_7 (Lambda)            (None, 2)                 0         \n",
      "=================================================================\n",
      "Total params: 0\n",
      "Trainable params: 0\n",
      "Non-trainable params: 0\n",
      "_________________________________________________________________\n"
     ]
    }
   ],
   "source": [
    "model = Model(inputs=raw_input, outputs=driving)\n",
    "model.compile(optimizer='adam', loss='mean_squared_error', metrics=['accuracy'])\n",
    "model.summary()"
   ]
  },
  {
   "cell_type": "code",
   "execution_count": 43,
   "metadata": {},
   "outputs": [
    {
     "name": "stdout",
     "output_type": "stream",
     "text": [
      "Train on 41455 samples, validate on 846 samples\n",
      "Epoch 1/2\n",
      "41455/41455 [==============================] - 4s 88us/step - loss: 0.2041 - acc: 0.7326 - val_loss: 0.2153 - val_acc: 0.7210\n",
      "Epoch 2/2\n",
      "41455/41455 [==============================] - 4s 89us/step - loss: 0.2041 - acc: 0.7326 - val_loss: 0.2153 - val_acc: 0.7210\n"
     ]
    }
   ],
   "source": [
    "history = model.fit(X_train, Y_train, epochs=2, batch_size=64, validation_data=(X_test, Y_test))"
   ]
  },
  {
   "cell_type": "code",
   "execution_count": 44,
   "metadata": {},
   "outputs": [
    {
     "data": {
      "image/png": "[encoded data removed]",
      "text/plain": [
       "<Figure size 432x288 with 1 Axes>"
      ]
     },
     "metadata": {
      "needs_background": "light"
     },
     "output_type": "display_data"
    }
   ],
   "source": [
    "pyplot.title('loss')\n",
    "pyplot.plot(history.history['loss'], label='train')\n",
    "pyplot.plot(history.history['val_loss'], label='test')\n",
    "pyplot.legend()\n",
    "pyplot.show()"
   ]
  },
  {
   "cell_type": "code",
   "execution_count": 45,
   "metadata": {},
   "outputs": [
    {
     "data": {
      "image/png": "[encoded data removed]",
      "text/plain": [
       "<Figure size 432x288 with 1 Axes>"
      ]
     },
     "metadata": {
      "needs_background": "light"
     },
     "output_type": "display_data"
    }
   ],
   "source": [
    "pyplot.title('accuracy')\n",
    "pyplot.plot(history.history['acc'], label='train')\n",
    "pyplot.plot(history.history['val_acc'], label='test')\n",
    "pyplot.legend()\n",
    "pyplot.show()"
   ]
  },
  {
   "cell_type": "code",
   "execution_count": 38,
   "metadata": {},
   "outputs": [
    {
     "name": "stdout",
     "output_type": "stream",
     "text": [
      "[0.21243035 0.60419044]\n",
      "[0.  0.6]\n",
      "---------\n",
      "[0.37810288 0.5276203 ]\n",
      "[0.  0.6]\n",
      "---------\n",
      "[-0.33834736  0.51307368]\n",
      "[0.  0.6]\n",
      "---------\n",
      "[0.72426684 0.58323133]\n",
      "[0.  0.6]\n",
      "---------\n",
      "[0.42407507 0.60178645]\n",
      "[0.  0.6]\n",
      "---------\n",
      "[0.46857837 0.69936132]\n",
      "[0.  0.6]\n",
      "---------\n",
      "[-0.58100932  0.56240626]\n",
      "[0.  0.6]\n",
      "---------\n",
      "[-0.16157346  0.09941968]\n",
      "[0.  0.6]\n",
      "---------\n",
      "[-0.2723134   0.31195986]\n",
      "[0.  0.6]\n",
      "---------\n",
      "[ 0.65924831 -0.51144886]\n",
      "[0.  0.6]\n",
      "---------\n"
     ]
    }
   ],
   "source": [
    "for index in range(0, 10):\n",
    "    print(Y_test.values[index])\n",
    "    print(model.predict(X_test.values[index:index+1,:])[0])\n",
    "    print(\"---------\")"
   ]
  },
  {
   "cell_type": "code",
   "execution_count": null,
   "metadata": {},
   "outputs": [],
   "source": []
  }
 ],
 "metadata": {
  "kernelspec": {
   "display_name": "Python 3",
   "language": "python",
   "name": "python3"
  },
  "language_info": {
   "codemirror_mode": {
    "name": "ipython",
    "version": 3
   },
   "file_extension": ".py",
   "mimetype": "text/x-python",
   "name": "python",
   "nbconvert_exporter": "python",
   "pygments_lexer": "ipython3",
   "version": "3.5.2"
  }
 },
 "nbformat": 4,
 "nbformat_minor": 2
}
