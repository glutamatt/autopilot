{
 "cells": [
  {
   "cell_type": "code",
   "execution_count": 1,
   "metadata": {},
   "outputs": [
    {
     "data": {
      "text/html": [
       "<style>.container { width:100% !important; }</style>"
      ],
      "text/plain": [
       "<IPython.core.display.HTML object>"
      ]
     },
     "metadata": {},
     "output_type": "display_data"
    }
   ],
   "source": [
    "from IPython.core.display import display, HTML\n",
    "display(HTML(\"<style>.container { width:100% !important; }</style>\"))"
   ]
  },
  {
   "cell_type": "code",
   "execution_count": 81,
   "metadata": {},
   "outputs": [],
   "source": [
    "import pandas as pd\n",
    "import numpy as np\n",
    "import tensorflow as tf\n",
    "from keras import backend as K\n",
    "#from tensorflow.python.keras import backend as K\n",
    "import glob\n",
    "from keras.layers import Input, Lambda, Conv2D, MaxPooling2D, Flatten, Concatenate, Dense, BatchNormalization, Dropout, Reshape, LeakyReLU\n",
    "from keras.optimizers import Adam\n",
    "from keras.models import Model\n",
    "from matplotlib import pyplot"
   ]
  },
  {
   "cell_type": "code",
   "execution_count": 96,
   "metadata": {},
   "outputs": [
    {
     "name": "stdout",
     "output_type": "stream",
     "text": [
      "Concat all=================================================== Loading data/autopilot_2019_03_18__12_40_09.csv\n",
      "Done\n"
     ]
    }
   ],
   "source": [
    "all_files = glob.glob(\"data/autopilot_*.csv\")\n",
    "#all_files = glob.glob(\"data/autopilot_2019_03_18__13_20_22.csv\")\n",
    "\n",
    "li = []\n",
    "iFile = 0\n",
    "for filename in all_files:\n",
    "    iFile = iFile+1\n",
    "    print(iFile * '=' + (len(all_files) - iFile) * '.', \"Loading\", filename, end='\\r')\n",
    "    df = pd.read_csv(filename, header=None)\n",
    "    df.drop(df.tail(1).index,inplace=True)\n",
    "    li.append(df.sample(frac=1))\n",
    "\n",
    "print(\"Concat all\")\n",
    "dataset = pd.concat(li, axis=0).sample(frac=1)\n",
    "#dataset = dataset.iloc[:int(dataset.shape[0] * .2),:]\n",
    "#DEV TO REDUCE DATASET\n",
    "#dataset = dataset.iloc[:1000,:]\n",
    "\n",
    "Y_data = dataset.iloc[:,-2:]\n",
    "X_data = dataset.iloc[:,:-2]\n",
    "print(\"Done\")"
   ]
  },
  {
   "cell_type": "code",
   "execution_count": 97,
   "metadata": {},
   "outputs": [
    {
     "name": "stdout",
     "output_type": "stream",
     "text": [
      "2271 feature values\n",
      "2 output values\n",
      "110137 training lines\n",
      "5796 testing lines\n"
     ]
    }
   ],
   "source": [
    "split_offset = int(X_data.shape[0] * .05)\n",
    "Y_test  = Y_data.iloc[:split_offset,:]\n",
    "Y_train = Y_data.iloc[split_offset:,:]\n",
    "X_test  = X_data.iloc[:split_offset,:]\n",
    "X_train = X_data.iloc[split_offset:,:]\n",
    "assert X_train.shape[1] == X_test.shape[1]\n",
    "assert Y_train.shape[1] == Y_test.shape[1]\n",
    "assert X_train.shape[0] == Y_train.shape[0]\n",
    "assert X_test.shape[0] == Y_test.shape[0]\n",
    "print(X_train.shape[1], \"feature values\")\n",
    "print(Y_train.shape[1], \"output values\")\n",
    "print(X_train.shape[0], \"training lines\")\n",
    "print(Y_test.shape[0], \"testing lines\")"
   ]
  },
  {
   "cell_type": "code",
   "execution_count": 107,
   "metadata": {},
   "outputs": [],
   "source": [
    "first_selfcar_inputs = 3\n",
    "features_by_car = 6\n",
    "cells_by_row = 18\n",
    "car_features = cells_by_row * cells_by_row * features_by_car\n",
    "blocks_offset = first_selfcar_inputs + car_features\n",
    "\n",
    "raw_input = Input(shape=(X_train.shape[1],), name='raw_input')\n",
    "\n",
    "selfcar = Lambda(\n",
    "    lambda x: K.slice(x, [0,0], [-1,first_selfcar_inputs]),\n",
    "    output_shape=(first_selfcar_inputs,),\n",
    "    name='selfcar_input'\n",
    ")(raw_input)\n",
    "\n",
    "blocks = Lambda(\n",
    "    lambda x: K.slice(x, [0,blocks_offset], [-1,-1]),\n",
    "    output_shape=(cells_by_row * cells_by_row,),\n",
    "    name='blocks_input_slice'\n",
    ")(raw_input)\n",
    "\n",
    "blocks = Reshape(\n",
    "    (cells_by_row, cells_by_row, 1,),\n",
    "    input_shape=(cells_by_row, cells_by_row, 1,),\n",
    "    name='blocks_input_reshape'\n",
    ")(blocks)\n",
    "\n",
    "cars = Lambda(\n",
    "    lambda x: K.slice(x, [0,first_selfcar_inputs], [-1,car_features]),\n",
    "    output_shape=(car_features,),\n",
    "    name='cars_input_slice'\n",
    ")(raw_input)\n",
    "\n",
    "cars = Reshape(\n",
    "    (cells_by_row, cells_by_row, features_by_car,),\n",
    "    input_shape=(cells_by_row * cells_by_row * features_by_car,),\n",
    "    name='cars_input_reshape'\n",
    ")(cars)\n",
    "\n",
    "reluActivation = LeakyReLU(name='leaky_relu')\n",
    "\n",
    "selfcar = BatchNormalization()(selfcar)\n",
    "selfcar = Dense(4, activation=reluActivation, name='dense_selfcar_1')(selfcar)\n",
    "selfcar = BatchNormalization()(selfcar)\n",
    "selfcar = Dense(8, activation=reluActivation, name='dense_selfcar_2')(selfcar)\n",
    "selfcar = BatchNormalization()(selfcar)\n",
    "selfcar = Dense(8, activation=reluActivation, name='dense_selfcar_3')(selfcar)\n",
    "\n",
    "blocks = Conv2D(8, (4, 4), padding='same', name='conv_blocks_0')(blocks)\n",
    "blocks = BatchNormalization()(blocks)\n",
    "blocks = Conv2D(16, (2, 2), name='conv_blocks_1')(blocks)\n",
    "blocks = BatchNormalization()(blocks)\n",
    "blocks = MaxPooling2D((2, 2), name='max_blocks_1')(blocks)\n",
    "blocks = Conv2D(32, (2, 2), name='conv_blocks_2')(blocks)\n",
    "blocks = BatchNormalization()(blocks)\n",
    "blocks = MaxPooling2D((2, 2), name='max_blocks_2')(blocks)\n",
    "blocks = Conv2D(64, (1, 1), name='conv_blocks_3')(blocks)\n",
    "blocks = BatchNormalization()(blocks)\n",
    "blocks = MaxPooling2D((2, 2), name='max_blocks_3')(blocks)\n",
    "blocks = Conv2D(128, (1, 1), name='conv_blocks_4')(blocks)\n",
    "blocks = BatchNormalization()(blocks)\n",
    "blocks = Flatten(name='flatten_blocks')(blocks)\n",
    "blocks = Dense(32, activation=reluActivation, name='dense_blocks_1')(Concatenate()([blocks, selfcar]))\n",
    "blocks = BatchNormalization()(blocks)\n",
    "blocks = Dense(16, activation=reluActivation, name='dense_blocks_2')(blocks)\n",
    "blocks = BatchNormalization()(blocks)\n",
    "blocks = Dense(8, activation=reluActivation, name='dense_blocks_3')(blocks)\n",
    "blocks = BatchNormalization()(blocks)\n",
    "blocks = Dense(4, activation=reluActivation, name='dense_blocks_4')(blocks)\n",
    "blocks = BatchNormalization()(blocks)\n",
    "blocks = Dense(2, activation=reluActivation, name='dense_blocks_5')(blocks)\n",
    "\n",
    "cars = Conv2D(8, (2, 2), padding='same', name='conv_cars_0')(cars)\n",
    "cars = BatchNormalization()(cars)\n",
    "cars = Conv2D(16, (1, 1), name='conv_cars_1')(cars)\n",
    "cars = BatchNormalization()(cars)\n",
    "cars = MaxPooling2D((2, 2), name='max_cars_1')(cars)\n",
    "cars = Conv2D(32, (1, 1), name='conv_cars_2')(cars)\n",
    "cars = BatchNormalization()(cars)\n",
    "cars = MaxPooling2D((2, 2), name='max_cars_2')(cars)\n",
    "cars = Conv2D(64, (1, 1), name='conv_cars_3')(cars)\n",
    "cars = BatchNormalization()(cars)\n",
    "cars = MaxPooling2D((2, 2), name='max_cars_3')(cars)\n",
    "cars = Flatten(name='flatten_cars')(cars)\n",
    "cars = Dense(8, activation=reluActivation, name='dense_cars_1')(Concatenate()([cars, selfcar]))\n",
    "cars = BatchNormalization()(cars)\n",
    "cars = Dense(4, activation=reluActivation, name='dense_cars_2')(cars)\n",
    "cars = BatchNormalization()(cars)\n",
    "cars = Dense(2, activation=reluActivation, name='dense_cars_3')(cars)\n",
    "\n",
    "all_features = Concatenate(name='all_features')([blocks, cars, selfcar])\n",
    "all_features = BatchNormalization()(all_features)\n",
    "all_features = Dense(8, activation=reluActivation)(all_features)\n",
    "all_features = BatchNormalization()(all_features)\n",
    "all_features = Dense(4, activation=reluActivation)(all_features)\n",
    "all_features = BatchNormalization()(all_features)\n",
    "driving = Dense(2, activation='tanh')(all_features)"
   ]
  },
  {
   "cell_type": "code",
   "execution_count": 108,
   "metadata": {},
   "outputs": [
    {
     "name": "stdout",
     "output_type": "stream",
     "text": [
      "__________________________________________________________________________________________________\n",
      "Layer (type)                    Output Shape         Param #     Connected to                     \n",
      "==================================================================================================\n",
      "raw_input (InputLayer)          (None, 2271)         0                                            \n",
      "__________________________________________________________________________________________________\n",
      "blocks_input_slice (Lambda)     (None, 324)          0           raw_input[0][0]                  \n",
      "__________________________________________________________________________________________________\n",
      "blocks_input_reshape (Reshape)  (None, 18, 18, 1)    0           blocks_input_slice[0][0]         \n",
      "__________________________________________________________________________________________________\n",
      "conv_blocks_0 (Conv2D)          (None, 18, 18, 8)    136         blocks_input_reshape[0][0]       \n",
      "__________________________________________________________________________________________________\n",
      "batch_normalization_197 (BatchN (None, 18, 18, 8)    32          conv_blocks_0[0][0]              \n",
      "__________________________________________________________________________________________________\n",
      "conv_blocks_1 (Conv2D)          (None, 17, 17, 16)   528         batch_normalization_197[0][0]    \n",
      "__________________________________________________________________________________________________\n",
      "batch_normalization_198 (BatchN (None, 17, 17, 16)   64          conv_blocks_1[0][0]              \n",
      "__________________________________________________________________________________________________\n",
      "max_blocks_1 (MaxPooling2D)     (None, 8, 8, 16)     0           batch_normalization_198[0][0]    \n",
      "__________________________________________________________________________________________________\n",
      "cars_input_slice (Lambda)       (None, 1944)         0           raw_input[0][0]                  \n",
      "__________________________________________________________________________________________________\n",
      "conv_blocks_2 (Conv2D)          (None, 7, 7, 32)     2080        max_blocks_1[0][0]               \n",
      "__________________________________________________________________________________________________\n",
      "cars_input_reshape (Reshape)    (None, 18, 18, 6)    0           cars_input_slice[0][0]           \n",
      "__________________________________________________________________________________________________\n",
      "batch_normalization_199 (BatchN (None, 7, 7, 32)     128         conv_blocks_2[0][0]              \n",
      "__________________________________________________________________________________________________\n",
      "conv_cars_0 (Conv2D)            (None, 18, 18, 8)    200         cars_input_reshape[0][0]         \n",
      "__________________________________________________________________________________________________\n",
      "max_blocks_2 (MaxPooling2D)     (None, 3, 3, 32)     0           batch_normalization_199[0][0]    \n",
      "__________________________________________________________________________________________________\n",
      "selfcar_input (Lambda)          (None, 3)            0           raw_input[0][0]                  \n",
      "__________________________________________________________________________________________________\n",
      "batch_normalization_206 (BatchN (None, 18, 18, 8)    32          conv_cars_0[0][0]                \n",
      "__________________________________________________________________________________________________\n",
      "conv_blocks_3 (Conv2D)          (None, 3, 3, 64)     2112        max_blocks_2[0][0]               \n",
      "__________________________________________________________________________________________________\n",
      "batch_normalization_194 (BatchN (None, 3)            12          selfcar_input[0][0]              \n",
      "__________________________________________________________________________________________________\n",
      "conv_cars_1 (Conv2D)            (None, 18, 18, 16)   144         batch_normalization_206[0][0]    \n",
      "__________________________________________________________________________________________________\n",
      "batch_normalization_200 (BatchN (None, 3, 3, 64)     256         conv_blocks_3[0][0]              \n",
      "__________________________________________________________________________________________________\n",
      "dense_selfcar_1 (Dense)         (None, 4)            16          batch_normalization_194[0][0]    \n",
      "__________________________________________________________________________________________________\n",
      "batch_normalization_207 (BatchN (None, 18, 18, 16)   64          conv_cars_1[0][0]                \n",
      "__________________________________________________________________________________________________\n",
      "max_blocks_3 (MaxPooling2D)     (None, 1, 1, 64)     0           batch_normalization_200[0][0]    \n",
      "__________________________________________________________________________________________________\n",
      "batch_normalization_195 (BatchN (None, 4)            16          dense_selfcar_1[0][0]            \n",
      "__________________________________________________________________________________________________\n",
      "max_cars_1 (MaxPooling2D)       (None, 9, 9, 16)     0           batch_normalization_207[0][0]    \n",
      "__________________________________________________________________________________________________\n",
      "conv_blocks_4 (Conv2D)          (None, 1, 1, 128)    8320        max_blocks_3[0][0]               \n",
      "__________________________________________________________________________________________________\n",
      "dense_selfcar_2 (Dense)         (None, 8)            40          batch_normalization_195[0][0]    \n",
      "__________________________________________________________________________________________________\n",
      "conv_cars_2 (Conv2D)            (None, 9, 9, 32)     544         max_cars_1[0][0]                 \n",
      "__________________________________________________________________________________________________\n",
      "batch_normalization_201 (BatchN (None, 1, 1, 128)    512         conv_blocks_4[0][0]              \n",
      "__________________________________________________________________________________________________\n",
      "batch_normalization_196 (BatchN (None, 8)            32          dense_selfcar_2[0][0]            \n",
      "__________________________________________________________________________________________________\n",
      "batch_normalization_208 (BatchN (None, 9, 9, 32)     128         conv_cars_2[0][0]                \n",
      "__________________________________________________________________________________________________\n",
      "flatten_blocks (Flatten)        (None, 128)          0           batch_normalization_201[0][0]    \n",
      "__________________________________________________________________________________________________\n",
      "dense_selfcar_3 (Dense)         (None, 8)            72          batch_normalization_196[0][0]    \n",
      "__________________________________________________________________________________________________\n",
      "max_cars_2 (MaxPooling2D)       (None, 4, 4, 32)     0           batch_normalization_208[0][0]    \n",
      "__________________________________________________________________________________________________\n",
      "concatenate_19 (Concatenate)    (None, 136)          0           flatten_blocks[0][0]             \n",
      "                                                                 dense_selfcar_3[0][0]            \n",
      "__________________________________________________________________________________________________\n",
      "conv_cars_3 (Conv2D)            (None, 4, 4, 64)     2112        max_cars_2[0][0]                 \n",
      "__________________________________________________________________________________________________\n",
      "dense_blocks_1 (Dense)          (None, 32)           4384        concatenate_19[0][0]             \n",
      "__________________________________________________________________________________________________\n",
      "batch_normalization_209 (BatchN (None, 4, 4, 64)     256         conv_cars_3[0][0]                \n",
      "__________________________________________________________________________________________________\n",
      "batch_normalization_202 (BatchN (None, 32)           128         dense_blocks_1[0][0]             \n",
      "__________________________________________________________________________________________________\n",
      "max_cars_3 (MaxPooling2D)       (None, 2, 2, 64)     0           batch_normalization_209[0][0]    \n",
      "__________________________________________________________________________________________________\n",
      "dense_blocks_2 (Dense)          (None, 16)           528         batch_normalization_202[0][0]    \n",
      "__________________________________________________________________________________________________\n",
      "flatten_cars (Flatten)          (None, 256)          0           max_cars_3[0][0]                 \n",
      "__________________________________________________________________________________________________\n",
      "batch_normalization_203 (BatchN (None, 16)           64          dense_blocks_2[0][0]             \n",
      "__________________________________________________________________________________________________\n",
      "concatenate_20 (Concatenate)    (None, 264)          0           flatten_cars[0][0]               \n",
      "                                                                 dense_selfcar_3[0][0]            \n",
      "__________________________________________________________________________________________________\n",
      "dense_blocks_3 (Dense)          (None, 8)            136         batch_normalization_203[0][0]    \n",
      "__________________________________________________________________________________________________\n",
      "dense_cars_1 (Dense)            (None, 8)            2120        concatenate_20[0][0]             \n",
      "__________________________________________________________________________________________________\n",
      "batch_normalization_204 (BatchN (None, 8)            32          dense_blocks_3[0][0]             \n",
      "__________________________________________________________________________________________________\n",
      "batch_normalization_210 (BatchN (None, 8)            32          dense_cars_1[0][0]               \n",
      "__________________________________________________________________________________________________\n",
      "dense_blocks_4 (Dense)          (None, 4)            36          batch_normalization_204[0][0]    \n",
      "__________________________________________________________________________________________________\n",
      "dense_cars_2 (Dense)            (None, 4)            36          batch_normalization_210[0][0]    \n",
      "__________________________________________________________________________________________________\n",
      "batch_normalization_205 (BatchN (None, 4)            16          dense_blocks_4[0][0]             \n",
      "__________________________________________________________________________________________________\n",
      "batch_normalization_211 (BatchN (None, 4)            16          dense_cars_2[0][0]               \n",
      "__________________________________________________________________________________________________\n",
      "dense_blocks_5 (Dense)          (None, 2)            10          batch_normalization_205[0][0]    \n",
      "__________________________________________________________________________________________________\n",
      "dense_cars_3 (Dense)            (None, 2)            10          batch_normalization_211[0][0]    \n",
      "__________________________________________________________________________________________________\n",
      "all_features (Concatenate)      (None, 12)           0           dense_blocks_5[0][0]             \n",
      "                                                                 dense_cars_3[0][0]               \n",
      "                                                                 dense_selfcar_3[0][0]            \n",
      "__________________________________________________________________________________________________\n",
      "batch_normalization_212 (BatchN (None, 12)           48          all_features[0][0]               \n",
      "__________________________________________________________________________________________________\n",
      "dense_28 (Dense)                (None, 8)            104         batch_normalization_212[0][0]    \n",
      "__________________________________________________________________________________________________\n",
      "batch_normalization_213 (BatchN (None, 8)            32          dense_28[0][0]                   \n",
      "__________________________________________________________________________________________________\n",
      "dense_29 (Dense)                (None, 4)            36          batch_normalization_213[0][0]    \n",
      "__________________________________________________________________________________________________\n",
      "batch_normalization_214 (BatchN (None, 4)            16          dense_29[0][0]                   \n",
      "__________________________________________________________________________________________________\n",
      "dense_30 (Dense)                (None, 2)            10          batch_normalization_214[0][0]    \n",
      "==================================================================================================\n",
      "Total params: 25,630\n",
      "Trainable params: 24,672\n",
      "Non-trainable params: 958\n",
      "__________________________________________________________________________________________________\n"
     ]
    }
   ],
   "source": [
    "def acceptation(y_true, y_pred):\n",
    "    return K.mean(K.abs(y_pred - y_true) < .2, axis=-1)\n",
    "\n",
    "model = Model(inputs=raw_input, outputs=driving, name='first_try')\n",
    "model.compile(optimizer=Adam(), loss='mean_squared_error', metrics=[acceptation])\n",
    "model.summary()"
   ]
  },
  {
   "cell_type": "code",
   "execution_count": 99,
   "metadata": {},
   "outputs": [
    {
     "name": "stdout",
     "output_type": "stream",
     "text": [
      "Train on 110137 samples, validate on 5796 samples\n",
      "Epoch 1/15\n",
      "110137/110137 [==============================] - 121s 1ms/step - loss: 0.1389 - acceptation: 0.3984 - val_loss: 0.1345 - val_acceptation: 0.3951\n",
      "Epoch 2/15\n",
      "110137/110137 [==============================] - 121s 1ms/step - loss: 0.1385 - acceptation: 0.3993 - val_loss: 0.1346 - val_acceptation: 0.4128\n",
      "Epoch 3/15\n",
      "110137/110137 [==============================] - 120s 1ms/step - loss: 0.1378 - acceptation: 0.4017 - val_loss: 0.1346 - val_acceptation: 0.4007\n",
      "Epoch 4/15\n",
      "110137/110137 [==============================] - 120s 1ms/step - loss: 0.1373 - acceptation: 0.4023 - val_loss: 0.1347 - val_acceptation: 0.3972\n",
      "Epoch 5/15\n",
      "110137/110137 [==============================] - 121s 1ms/step - loss: 0.1367 - acceptation: 0.4041 - val_loss: 0.1343 - val_acceptation: 0.4018\n",
      "Epoch 6/15\n",
      "110137/110137 [==============================] - 120s 1ms/step - loss: 0.1360 - acceptation: 0.4056 - val_loss: 0.1345 - val_acceptation: 0.4173\n",
      "Epoch 7/15\n",
      "110137/110137 [==============================] - 120s 1ms/step - loss: 0.1357 - acceptation: 0.4062 - val_loss: 0.1342 - val_acceptation: 0.3974\n",
      "Epoch 8/15\n",
      "110137/110137 [==============================] - 122s 1ms/step - loss: 0.1353 - acceptation: 0.4070 - val_loss: 0.1341 - val_acceptation: 0.4103\n",
      "Epoch 9/15\n",
      "110137/110137 [==============================] - 121s 1ms/step - loss: 0.1350 - acceptation: 0.4084 - val_loss: 0.1337 - val_acceptation: 0.4114\n",
      "Epoch 10/15\n",
      "110137/110137 [==============================] - 121s 1ms/step - loss: 0.1347 - acceptation: 0.4085 - val_loss: 0.1334 - val_acceptation: 0.4224\n",
      "Epoch 11/15\n",
      "110137/110137 [==============================] - 122s 1ms/step - loss: 0.1343 - acceptation: 0.4101 - val_loss: 0.1331 - val_acceptation: 0.4143\n",
      "Epoch 12/15\n",
      "110137/110137 [==============================] - 122s 1ms/step - loss: 0.1341 - acceptation: 0.4101 - val_loss: 0.1332 - val_acceptation: 0.4070\n",
      "Epoch 13/15\n",
      "110137/110137 [==============================] - 123s 1ms/step - loss: 0.1336 - acceptation: 0.4102 - val_loss: 0.1330 - val_acceptation: 0.4183\n",
      "Epoch 14/15\n",
      "110137/110137 [==============================] - 123s 1ms/step - loss: 0.1334 - acceptation: 0.4116 - val_loss: 0.1323 - val_acceptation: 0.4079\n",
      "Epoch 15/15\n",
      "110137/110137 [==============================] - 123s 1ms/step - loss: 0.1333 - acceptation: 0.4110 - val_loss: 0.1333 - val_acceptation: 0.4254\n"
     ]
    }
   ],
   "source": [
    "history = model.fit(X_train, Y_train, epochs=15, batch_size=64, validation_data=(X_test, Y_test))"
   ]
  },
  {
   "cell_type": "code",
   "execution_count": 100,
   "metadata": {},
   "outputs": [
    {
     "data": {
      "image/png": "[encoded data removed]",
      "text/plain": [
       "<Figure size 864x288 with 2 Axes>"
      ]
     },
     "metadata": {
      "needs_background": "light"
     },
     "output_type": "display_data"
    }
   ],
   "source": [
    "pyplot.figure(figsize=(12,4))\n",
    "\n",
    "pyplot.subplot(1, 2, 1)\n",
    "pyplot.title('loss')\n",
    "pyplot.plot(history.history['val_loss'], label='test')\n",
    "pyplot.plot(previous_history.history['val_loss'], label='previous test')\n",
    "pyplot.legend()\n",
    "\n",
    "pyplot.subplot(1, 2, 2)\n",
    "pyplot.title('acceptation')\n",
    "pyplot.plot(history.history['val_acceptation'], label='test')\n",
    "pyplot.plot(previous_history.history['val_acceptation'], label='previous test')\n",
    "pyplot.legend()\n",
    "\n",
    "pyplot.show()"
   ]
  },
  {
   "cell_type": "code",
   "execution_count": 101,
   "metadata": {},
   "outputs": [
    {
     "data": {
      "image/png": "[encoded data removed]",
      "text/plain": [
       "<Figure size 864x288 with 2 Axes>"
      ]
     },
     "metadata": {
      "needs_background": "light"
     },
     "output_type": "display_data"
    }
   ],
   "source": [
    "pyplot.figure(figsize=(12,4))\n",
    "\n",
    "pyplot.subplot(1, 2, 1)\n",
    "pyplot.title('loss')\n",
    "pyplot.plot(history.history['loss'], label='train')\n",
    "pyplot.plot(previous_history.history['loss'], label='previous train')\n",
    "pyplot.legend()\n",
    "\n",
    "pyplot.subplot(1, 2, 2)\n",
    "pyplot.title('acceptation')\n",
    "pyplot.plot(history.history['acceptation'], label='train')\n",
    "pyplot.plot(previous_history.history['acceptation'], label='previous train')\n",
    "pyplot.legend()\n",
    "\n",
    "pyplot.show()"
   ]
  },
  {
   "cell_type": "code",
   "execution_count": 98,
   "metadata": {},
   "outputs": [],
   "source": [
    "previous_model = model\n",
    "previous_history = history"
   ]
  },
  {
   "cell_type": "code",
   "execution_count": 103,
   "metadata": {},
   "outputs": [
    {
     "name": "stdout",
     "output_type": "stream",
     "text": [
      "[-0.25131832  0.74865951]\n",
      "[0.01163872 0.57854486]\n",
      "---------\n",
      "[0.40175378 0.11442821]\n",
      "[0.40719676 0.23735079]\n",
      "---------\n",
      "[-0.60059601  0.64144502]\n",
      "[-0.38385963  0.5992314 ]\n",
      "---------\n",
      "[0.74539247 0.11928061]\n",
      "[0.01413749 0.49745277]\n",
      "---------\n",
      "[0.23726925 0.25103223]\n",
      "[-0.2232786   0.26819518]\n",
      "---------\n"
     ]
    }
   ],
   "source": [
    "for index in range(110, 115):\n",
    "    print(Y_test.values[index])\n",
    "    print(model.predict(X_test.values[index:index+1,:])[0])\n",
    "    print(\"---------\")"
   ]
  },
  {
   "cell_type": "code",
   "execution_count": 104,
   "metadata": {},
   "outputs": [
    {
     "name": "stdout",
     "output_type": "stream",
     "text": [
      "WARNING:tensorflow:From /usr/local/lib/python3.5/dist-packages/tensorflow/python/saved_model/signature_def_utils_impl.py:205: build_tensor_info (from tensorflow.python.saved_model.utils_impl) is deprecated and will be removed in a future version.\n",
      "Instructions for updating:\n",
      "This function will only be available through the v1 compatibility library as tf.compat.v1.saved_model.utils.build_tensor_info or tf.compat.v1.saved_model.build_tensor_info.\n",
      "INFO:tensorflow:No assets to save.\n",
      "INFO:tensorflow:No assets to write.\n",
      "INFO:tensorflow:SavedModel written to: models/export/first_try/9/saved_model.pb\n"
     ]
    },
    {
     "data": {
      "text/plain": [
       "b'models/export/first_try/9/saved_model.pb'"
      ]
     },
     "execution_count": 104,
     "metadata": {},
     "output_type": "execute_result"
    }
   ],
   "source": [
    "import os, time\n",
    "from tensorflow.python.saved_model import builder as saved_model_builder\n",
    "from tensorflow.python.saved_model import tag_constants, signature_constants, signature_def_utils_impl\n",
    "\n",
    "prediction_signature = tf.saved_model.signature_def_utils.predict_signature_def(\n",
    "    {\"raw\": model.input},\n",
    "    {\"drive\": model.output}\n",
    ")\n",
    "export_path = os.path.join(\n",
    "    tf.compat.as_bytes('models/export/{}'.format(model.name)),\n",
    "    tf.compat.as_bytes('9')\n",
    ")\n",
    "builder = saved_model_builder.SavedModelBuilder(export_path)\n",
    "sess = K.get_session()\n",
    "builder.add_meta_graph_and_variables(\n",
    "    sess, [tag_constants.SERVING],\n",
    "    signature_def_map={'raw': prediction_signature}\n",
    ")\n",
    "builder.save()"
   ]
  },
  {
   "cell_type": "code",
   "execution_count": 111,
   "metadata": {},
   "outputs": [
    {
     "ename": "AttributeError",
     "evalue": "'LeakyReLU' object has no attribute '__name__'",
     "output_type": "error",
     "traceback": [
      "\u001b[0;31m---------------------------------------------------------------------------\u001b[0m",
      "\u001b[0;31mAttributeError\u001b[0m                            Traceback (most recent call last)",
      "\u001b[0;32m<ipython-input-111-4e76c583c955>\u001b[0m in \u001b[0;36m<module>\u001b[0;34m\u001b[0m\n\u001b[1;32m      3\u001b[0m \u001b[0;31m#with open('%s/model.json'% export_path.decode(\"utf-8\"), 'a') as the_file:\u001b[0m\u001b[0;34m\u001b[0m\u001b[0;34m\u001b[0m\u001b[0m\n\u001b[1;32m      4\u001b[0m \u001b[0;31m#    the_file.write(model.to_json())\u001b[0m\u001b[0;34m\u001b[0m\u001b[0;34m\u001b[0m\u001b[0m\n\u001b[0;32m----> 5\u001b[0;31m \u001b[0mmodel\u001b[0m\u001b[0;34m.\u001b[0m\u001b[0msave\u001b[0m\u001b[0;34m(\u001b[0m\u001b[0;34m'%s/model.h5'\u001b[0m \u001b[0;34m%\u001b[0m \u001b[0mexport_path\u001b[0m\u001b[0;34m.\u001b[0m\u001b[0mdecode\u001b[0m\u001b[0;34m(\u001b[0m\u001b[0;34m\"utf-8\"\u001b[0m\u001b[0;34m)\u001b[0m\u001b[0;34m)\u001b[0m\u001b[0;34m\u001b[0m\u001b[0m\n\u001b[0m\u001b[1;32m      6\u001b[0m \u001b[0mmodel\u001b[0m\u001b[0;34m.\u001b[0m\u001b[0msave_weights\u001b[0m\u001b[0;34m(\u001b[0m\u001b[0;34m'%s/weights.h5'\u001b[0m \u001b[0;34m%\u001b[0m \u001b[0mexport_path\u001b[0m\u001b[0;34m.\u001b[0m\u001b[0mdecode\u001b[0m\u001b[0;34m(\u001b[0m\u001b[0;34m\"utf-8\"\u001b[0m\u001b[0;34m)\u001b[0m\u001b[0;34m)\u001b[0m\u001b[0;34m\u001b[0m\u001b[0m\n",
      "\u001b[0;32m/usr/local/lib/python3.5/dist-packages/keras/engine/network.py\u001b[0m in \u001b[0;36msave\u001b[0;34m(self, filepath, overwrite, include_optimizer)\u001b[0m\n\u001b[1;32m   1088\u001b[0m             \u001b[0;32mraise\u001b[0m \u001b[0mNotImplementedError\u001b[0m\u001b[0;34m\u001b[0m\u001b[0m\n\u001b[1;32m   1089\u001b[0m         \u001b[0;32mfrom\u001b[0m \u001b[0;34m.\u001b[0m\u001b[0;34m.\u001b[0m\u001b[0mmodels\u001b[0m \u001b[0;32mimport\u001b[0m \u001b[0msave_model\u001b[0m\u001b[0;34m\u001b[0m\u001b[0m\n\u001b[0;32m-> 1090\u001b[0;31m         \u001b[0msave_model\u001b[0m\u001b[0;34m(\u001b[0m\u001b[0mself\u001b[0m\u001b[0;34m,\u001b[0m \u001b[0mfilepath\u001b[0m\u001b[0;34m,\u001b[0m \u001b[0moverwrite\u001b[0m\u001b[0;34m,\u001b[0m \u001b[0minclude_optimizer\u001b[0m\u001b[0;34m)\u001b[0m\u001b[0;34m\u001b[0m\u001b[0m\n\u001b[0m\u001b[1;32m   1091\u001b[0m \u001b[0;34m\u001b[0m\u001b[0m\n\u001b[1;32m   1092\u001b[0m     \u001b[0;32mdef\u001b[0m \u001b[0msave_weights\u001b[0m\u001b[0;34m(\u001b[0m\u001b[0mself\u001b[0m\u001b[0;34m,\u001b[0m \u001b[0mfilepath\u001b[0m\u001b[0;34m,\u001b[0m \u001b[0moverwrite\u001b[0m\u001b[0;34m=\u001b[0m\u001b[0;32mTrue\u001b[0m\u001b[0;34m)\u001b[0m\u001b[0;34m:\u001b[0m\u001b[0;34m\u001b[0m\u001b[0m\n",
      "\u001b[0;32m/usr/local/lib/python3.5/dist-packages/keras/engine/saving.py\u001b[0m in \u001b[0;36msave_model\u001b[0;34m(model, filepath, overwrite, include_optimizer)\u001b[0m\n\u001b[1;32m    380\u001b[0m \u001b[0;34m\u001b[0m\u001b[0m\n\u001b[1;32m    381\u001b[0m     \u001b[0;32mtry\u001b[0m\u001b[0;34m:\u001b[0m\u001b[0;34m\u001b[0m\u001b[0m\n\u001b[0;32m--> 382\u001b[0;31m         \u001b[0m_serialize_model\u001b[0m\u001b[0;34m(\u001b[0m\u001b[0mmodel\u001b[0m\u001b[0;34m,\u001b[0m \u001b[0mf\u001b[0m\u001b[0;34m,\u001b[0m \u001b[0minclude_optimizer\u001b[0m\u001b[0;34m)\u001b[0m\u001b[0;34m\u001b[0m\u001b[0m\n\u001b[0m\u001b[1;32m    383\u001b[0m     \u001b[0;32mfinally\u001b[0m\u001b[0;34m:\u001b[0m\u001b[0;34m\u001b[0m\u001b[0m\n\u001b[1;32m    384\u001b[0m         \u001b[0;32mif\u001b[0m \u001b[0mopened_new_file\u001b[0m\u001b[0;34m:\u001b[0m\u001b[0;34m\u001b[0m\u001b[0m\n",
      "\u001b[0;32m/usr/local/lib/python3.5/dist-packages/keras/engine/saving.py\u001b[0m in \u001b[0;36m_serialize_model\u001b[0;34m(model, f, include_optimizer)\u001b[0m\n\u001b[1;32m     81\u001b[0m     \u001b[0mmodel_config\u001b[0m \u001b[0;34m=\u001b[0m \u001b[0;34m{\u001b[0m\u001b[0;34m}\u001b[0m\u001b[0;34m\u001b[0m\u001b[0m\n\u001b[1;32m     82\u001b[0m     \u001b[0mmodel_config\u001b[0m\u001b[0;34m[\u001b[0m\u001b[0;34m'class_name'\u001b[0m\u001b[0;34m]\u001b[0m \u001b[0;34m=\u001b[0m \u001b[0mmodel\u001b[0m\u001b[0;34m.\u001b[0m\u001b[0m__class__\u001b[0m\u001b[0;34m.\u001b[0m\u001b[0m__name__\u001b[0m\u001b[0;34m\u001b[0m\u001b[0m\n\u001b[0;32m---> 83\u001b[0;31m     \u001b[0mmodel_config\u001b[0m\u001b[0;34m[\u001b[0m\u001b[0;34m'config'\u001b[0m\u001b[0;34m]\u001b[0m \u001b[0;34m=\u001b[0m \u001b[0mmodel\u001b[0m\u001b[0;34m.\u001b[0m\u001b[0mget_config\u001b[0m\u001b[0;34m(\u001b[0m\u001b[0;34m)\u001b[0m\u001b[0;34m\u001b[0m\u001b[0m\n\u001b[0m\u001b[1;32m     84\u001b[0m     \u001b[0mmodel_config\u001b[0m \u001b[0;34m=\u001b[0m \u001b[0mjson\u001b[0m\u001b[0;34m.\u001b[0m\u001b[0mdumps\u001b[0m\u001b[0;34m(\u001b[0m\u001b[0mmodel_config\u001b[0m\u001b[0;34m,\u001b[0m \u001b[0mdefault\u001b[0m\u001b[0;34m=\u001b[0m\u001b[0mget_json_type\u001b[0m\u001b[0;34m)\u001b[0m\u001b[0;34m\u001b[0m\u001b[0m\n\u001b[1;32m     85\u001b[0m     \u001b[0mmodel_config\u001b[0m \u001b[0;34m=\u001b[0m \u001b[0mmodel_config\u001b[0m\u001b[0;34m.\u001b[0m\u001b[0mencode\u001b[0m\u001b[0;34m(\u001b[0m\u001b[0;34m'utf-8'\u001b[0m\u001b[0;34m)\u001b[0m\u001b[0;34m\u001b[0m\u001b[0m\n",
      "\u001b[0;32m/usr/local/lib/python3.5/dist-packages/keras/engine/network.py\u001b[0m in \u001b[0;36mget_config\u001b[0;34m(self)\u001b[0m\n\u001b[1;32m    858\u001b[0m         \u001b[0;32mfor\u001b[0m \u001b[0mlayer\u001b[0m \u001b[0;32min\u001b[0m \u001b[0mself\u001b[0m\u001b[0;34m.\u001b[0m\u001b[0mlayers\u001b[0m\u001b[0;34m:\u001b[0m  \u001b[0;31m# From the earliest layers on.\u001b[0m\u001b[0;34m\u001b[0m\u001b[0m\n\u001b[1;32m    859\u001b[0m             \u001b[0mlayer_class_name\u001b[0m \u001b[0;34m=\u001b[0m \u001b[0mlayer\u001b[0m\u001b[0;34m.\u001b[0m\u001b[0m__class__\u001b[0m\u001b[0;34m.\u001b[0m\u001b[0m__name__\u001b[0m\u001b[0;34m\u001b[0m\u001b[0m\n\u001b[0;32m--> 860\u001b[0;31m             \u001b[0mlayer_config\u001b[0m \u001b[0;34m=\u001b[0m \u001b[0mlayer\u001b[0m\u001b[0;34m.\u001b[0m\u001b[0mget_config\u001b[0m\u001b[0;34m(\u001b[0m\u001b[0;34m)\u001b[0m\u001b[0;34m\u001b[0m\u001b[0m\n\u001b[0m\u001b[1;32m    861\u001b[0m             \u001b[0mfiltered_inbound_nodes\u001b[0m \u001b[0;34m=\u001b[0m \u001b[0;34m[\u001b[0m\u001b[0;34m]\u001b[0m\u001b[0;34m\u001b[0m\u001b[0m\n\u001b[1;32m    862\u001b[0m             \u001b[0;32mfor\u001b[0m \u001b[0moriginal_node_index\u001b[0m\u001b[0;34m,\u001b[0m \u001b[0mnode\u001b[0m \u001b[0;32min\u001b[0m \u001b[0menumerate\u001b[0m\u001b[0;34m(\u001b[0m\u001b[0mlayer\u001b[0m\u001b[0;34m.\u001b[0m\u001b[0m_inbound_nodes\u001b[0m\u001b[0;34m)\u001b[0m\u001b[0;34m:\u001b[0m\u001b[0;34m\u001b[0m\u001b[0m\n",
      "\u001b[0;32m/usr/local/lib/python3.5/dist-packages/keras/layers/core.py\u001b[0m in \u001b[0;36mget_config\u001b[0;34m(self)\u001b[0m\n\u001b[1;32m    894\u001b[0m         config = {\n\u001b[1;32m    895\u001b[0m             \u001b[0;34m'units'\u001b[0m\u001b[0;34m:\u001b[0m \u001b[0mself\u001b[0m\u001b[0;34m.\u001b[0m\u001b[0munits\u001b[0m\u001b[0;34m,\u001b[0m\u001b[0;34m\u001b[0m\u001b[0m\n\u001b[0;32m--> 896\u001b[0;31m             \u001b[0;34m'activation'\u001b[0m\u001b[0;34m:\u001b[0m \u001b[0mactivations\u001b[0m\u001b[0;34m.\u001b[0m\u001b[0mserialize\u001b[0m\u001b[0;34m(\u001b[0m\u001b[0mself\u001b[0m\u001b[0;34m.\u001b[0m\u001b[0mactivation\u001b[0m\u001b[0;34m)\u001b[0m\u001b[0;34m,\u001b[0m\u001b[0;34m\u001b[0m\u001b[0m\n\u001b[0m\u001b[1;32m    897\u001b[0m             \u001b[0;34m'use_bias'\u001b[0m\u001b[0;34m:\u001b[0m \u001b[0mself\u001b[0m\u001b[0;34m.\u001b[0m\u001b[0muse_bias\u001b[0m\u001b[0;34m,\u001b[0m\u001b[0;34m\u001b[0m\u001b[0m\n\u001b[1;32m    898\u001b[0m             \u001b[0;34m'kernel_initializer'\u001b[0m\u001b[0;34m:\u001b[0m \u001b[0minitializers\u001b[0m\u001b[0;34m.\u001b[0m\u001b[0mserialize\u001b[0m\u001b[0;34m(\u001b[0m\u001b[0mself\u001b[0m\u001b[0;34m.\u001b[0m\u001b[0mkernel_initializer\u001b[0m\u001b[0;34m)\u001b[0m\u001b[0;34m,\u001b[0m\u001b[0;34m\u001b[0m\u001b[0m\n",
      "\u001b[0;32m/usr/local/lib/python3.5/dist-packages/keras/activations.py\u001b[0m in \u001b[0;36mserialize\u001b[0;34m(activation)\u001b[0m\n\u001b[1;32m    174\u001b[0m \u001b[0;34m\u001b[0m\u001b[0m\n\u001b[1;32m    175\u001b[0m \u001b[0;32mdef\u001b[0m \u001b[0mserialize\u001b[0m\u001b[0;34m(\u001b[0m\u001b[0mactivation\u001b[0m\u001b[0;34m)\u001b[0m\u001b[0;34m:\u001b[0m\u001b[0;34m\u001b[0m\u001b[0m\n\u001b[0;32m--> 176\u001b[0;31m     \u001b[0;32mreturn\u001b[0m \u001b[0mactivation\u001b[0m\u001b[0;34m.\u001b[0m\u001b[0m__name__\u001b[0m\u001b[0;34m\u001b[0m\u001b[0m\n\u001b[0m\u001b[1;32m    177\u001b[0m \u001b[0;34m\u001b[0m\u001b[0m\n\u001b[1;32m    178\u001b[0m \u001b[0;34m\u001b[0m\u001b[0m\n",
      "\u001b[0;31mAttributeError\u001b[0m: 'LeakyReLU' object has no attribute '__name__'"
     ]
    }
   ],
   "source": [
    "#with open('%s/model.yaml'% export_path.decode(\"utf-8\"), 'a') as the_file:\n",
    "#    the_file.write(model.to_yaml())\n",
    "#with open('%s/model.json'% export_path.decode(\"utf-8\"), 'a') as the_file:\n",
    "#    the_file.write(model.to_json())\n",
    "model.save('%s/model.h5' % export_path.decode(\"utf-8\"))\n",
    "model.save_weights('%s/weights.h5' % export_path.decode(\"utf-8\"))"
   ]
  },
  {
   "cell_type": "code",
   "execution_count": null,
   "metadata": {},
   "outputs": [],
   "source": []
  }
 ],
 "metadata": {
  "kernelspec": {
   "display_name": "Python 3",
   "language": "python",
   "name": "python3"
  },
  "language_info": {
   "codemirror_mode": {
    "name": "ipython",
    "version": 3
   },
   "file_extension": ".py",
   "mimetype": "text/x-python",
   "name": "python",
   "nbconvert_exporter": "python",
   "pygments_lexer": "ipython3",
   "version": "3.5.2"
  }
 },
 "nbformat": 4,
 "nbformat_minor": 2
}
