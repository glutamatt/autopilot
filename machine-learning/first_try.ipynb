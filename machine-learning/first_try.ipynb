{
 "cells": [
  {
   "cell_type": "code",
   "execution_count": 1,
   "metadata": {},
   "outputs": [
    {
     "data": {
      "text/html": [
       "<style>.container { width:100% !important; }</style>"
      ],
      "text/plain": [
       "<IPython.core.display.HTML object>"
      ]
     },
     "metadata": {},
     "output_type": "display_data"
    }
   ],
   "source": [
    "from IPython.core.display import display, HTML\n",
    "display(HTML(\"<style>.container { width:100% !important; }</style>\"))"
   ]
  },
  {
   "cell_type": "code",
   "execution_count": 72,
   "metadata": {},
   "outputs": [],
   "source": [
    "import pandas as pd\n",
    "import numpy as np\n",
    "import tensorflow as tf\n",
    "from keras import backend as K\n",
    "#from tensorflow.python.keras import backend as K\n",
    "import glob\n",
    "from keras.layers import Input, Lambda, Conv2D, MaxPooling2D, Flatten, Concatenate, Dense, BatchNormalization, Dropout, Reshape\n",
    "from keras.optimizers import Adam\n",
    "from keras.models import Model\n",
    "from matplotlib import pyplot"
   ]
  },
  {
   "cell_type": "code",
   "execution_count": 3,
   "metadata": {},
   "outputs": [
    {
     "name": "stdout",
     "output_type": "stream",
     "text": [
      "Loading data/autopilot_2019_03_23__18_02_57.csv\n",
      "Loading data/autopilot_2019_03_18__13_17_35.csv\n",
      "Loading data/autopilot_2019_03_18__13_20_22.csv\n",
      "Loading data/autopilot_2019_03_23__18_01_43.csv\n",
      "Loading data/autopilot_2019_03_17__02_57_50.csv\n",
      "Loading data/autopilot_2019_03_23__17_59_34.csv\n",
      "Loading data/autopilot_2019_03_17__03_55_47.csv\n",
      "Loading data/autopilot_2019_03_18__12_42_35.csv\n",
      "Loading data/autopilot_2019_03_17__03_57_58.csv\n",
      "Loading data/autopilot_2019_03_18__13_19_00.csv\n",
      "Loading data/autopilot_2019_03_17__03_51_44.csv\n",
      "Loading data/autopilot_2019_03_18__13_16_35.csv\n",
      "Loading data/autopilot_2019_03_18__12_44_29.csv\n",
      "Loading data/autopilot_2019_03_23__18_00_53.csv\n",
      "Loading data/autopilot_2019_03_18__13_09_23.csv\n",
      "Loading data/autopilot_2019_03_17__03_54_00.csv\n",
      "Loading data/autopilot_2019_03_18__12_43_28.csv\n",
      "Loading data/autopilot_2019_03_17__03_53_15.csv\n",
      "Loading data/autopilot_2019_03_18__12_41_36.csv\n",
      "Loading data/autopilot_2019_03_17__02_59_54.csv\n",
      "Loading data/autopilot_2019_03_18__13_08_17.csv\n",
      "Loading data/autopilot_2019_03_18__12_41_05.csv\n",
      "Loading data/autopilot_2019_03_17__03_54_47.csv\n",
      "Loading data/autopilot_2019_03_17__03_59_32.csv\n",
      "Loading data/autopilot_2019_03_18__13_15_29.csv\n",
      "Loading data/autopilot_2019_03_17__03_57_05.csv\n",
      "Loading data/autopilot_2019_03_17__03_58_42.csv\n",
      "Loading data/autopilot_2019_03_18__13_14_33.csv\n",
      "Loading data/autopilot_2019_03_18__13_10_01.csv\n",
      "Loading data/autopilot_2019_03_17__03_52_34.csv\n",
      "Loading data/autopilot_2019_03_17__02_58_50.csv\n",
      "Loading data/autopilot_2019_03_17__02_57_04.csv\n",
      "Loading data/autopilot_2019_03_18__12_40_09.csv\n"
     ]
    }
   ],
   "source": [
    "all_files = glob.glob(\"data/*.csv\")\n",
    "#all_files = glob.glob(\"data/autopilot_2019_03_18__13_20_22.csv\")\n",
    "\n",
    "li = []\n",
    "for filename in all_files:\n",
    "    print(\"Loading\", filename)\n",
    "    df = pd.read_csv(filename, header=None)\n",
    "    df.drop(df.tail(1).index,inplace=True)\n",
    "    li.append(df)\n",
    "\n",
    "dataset = pd.concat(li, axis=0).sample(frac=1)\n",
    "\n",
    "#DEV TO REDUCE DATASET\n",
    "#dataset = dataset.iloc[:1000,:]\n",
    "\n",
    "Y_data = dataset.iloc[:,-2:]\n",
    "X_data = dataset.iloc[:,:-2]"
   ]
  },
  {
   "cell_type": "code",
   "execution_count": 4,
   "metadata": {},
   "outputs": [
    {
     "name": "stdout",
     "output_type": "stream",
     "text": [
      "2271 feature values\n",
      "2 output values\n",
      "48093 training lines\n",
      "2531 testing lines\n"
     ]
    }
   ],
   "source": [
    "split_offset = int(X_data.shape[0] * .05)\n",
    "Y_test  = Y_data.iloc[:split_offset,:]\n",
    "Y_train = Y_data.iloc[split_offset:,:]\n",
    "X_test  = X_data.iloc[:split_offset,:]\n",
    "X_train = X_data.iloc[split_offset:,:]\n",
    "assert X_train.shape[1] == X_test.shape[1]\n",
    "assert Y_train.shape[1] == Y_test.shape[1]\n",
    "assert X_train.shape[0] == Y_train.shape[0]\n",
    "assert X_test.shape[0] == Y_test.shape[0]\n",
    "print(X_train.shape[1], \"feature values\")\n",
    "print(Y_train.shape[1], \"output values\")\n",
    "print(X_train.shape[0], \"training lines\")\n",
    "print(Y_test.shape[0], \"testing lines\")"
   ]
  },
  {
   "cell_type": "code",
   "execution_count": 329,
   "metadata": {},
   "outputs": [],
   "source": [
    "first_selfcar_inputs = 3\n",
    "features_by_car = 6\n",
    "cells_by_row = 18\n",
    "car_features = cells_by_row * cells_by_row * features_by_car\n",
    "blocks_offset = first_selfcar_inputs + car_features\n",
    "\n",
    "raw_input = Input(shape=(X_train.shape[1],), name='raw_input')\n",
    "\n",
    "selfcar = Lambda(\n",
    "    lambda x: K.slice(x, [0,0], [-1,first_selfcar_inputs]),\n",
    "    output_shape=(first_selfcar_inputs,),\n",
    "    name='selfcar_input'\n",
    ")(raw_input)\n",
    "\n",
    "blocks = Lambda(\n",
    "    lambda x: K.slice(x, [0,blocks_offset], [-1,-1]),\n",
    "    output_shape=(cells_by_row * cells_by_row,),\n",
    "    name='blocks_input_slice'\n",
    ")(raw_input)\n",
    "\n",
    "blocks = Reshape(\n",
    "    (cells_by_row, cells_by_row, 1,),\n",
    "    input_shape=(cells_by_row, cells_by_row, 1,),\n",
    "    name='blocks_input_reshape'\n",
    ")(blocks)\n",
    "\n",
    "cars = Lambda(\n",
    "    lambda x: K.slice(x, [0,first_selfcar_inputs], [-1,car_features]),\n",
    "    output_shape=(car_features,),\n",
    "    name='cars_input_slice'\n",
    ")(raw_input)\n",
    "\n",
    "cars = Reshape(\n",
    "    (cells_by_row, cells_by_row, features_by_car,),\n",
    "    input_shape=(cells_by_row * cells_by_row * features_by_car,),\n",
    "    name='cars_input_reshape'\n",
    ")(cars)\n",
    "\n",
    "selfcar = BatchNormalization()(selfcar)\n",
    "selfcar = Dense(4, activation='relu', name='dense_selfcar_1')(selfcar)\n",
    "selfcar = BatchNormalization()(selfcar)\n",
    "selfcar = Dense(8, activation='relu', name='dense_selfcar_2')(selfcar)\n",
    "selfcar = BatchNormalization()(selfcar)\n",
    "selfcar = Dense(8, activation='relu', name='dense_selfcar_3')(selfcar)\n",
    "\n",
    "blocks = Conv2D(8, (4, 4), padding='same', name='conv_blocks_0')(blocks)\n",
    "blocks = BatchNormalization()(blocks)\n",
    "blocks = Conv2D(16, (2, 2), name='conv_blocks_1')(blocks)\n",
    "blocks = BatchNormalization()(blocks)\n",
    "blocks = MaxPooling2D((2, 2), name='max_blocks_1')(blocks)\n",
    "blocks = Conv2D(32, (2, 2), name='conv_blocks_2')(blocks)\n",
    "blocks = BatchNormalization()(blocks)\n",
    "blocks = MaxPooling2D((2, 2), name='max_blocks_2')(blocks)\n",
    "blocks = Conv2D(64, (1, 1), name='conv_blocks_3')(blocks)\n",
    "blocks = BatchNormalization()(blocks)\n",
    "blocks = MaxPooling2D((2, 2), name='max_blocks_3')(blocks)\n",
    "blocks = Conv2D(128, (1, 1), name='conv_blocks_4')(blocks)\n",
    "blocks = BatchNormalization()(blocks)\n",
    "blocks = Flatten(name='flatten_blocks')(blocks)\n",
    "blocks = Dense(32, activation='relu', name='dense_blocks_1')(Concatenate()([blocks, selfcar]))\n",
    "blocks = BatchNormalization()(blocks)\n",
    "blocks = Dense(16, activation='relu', name='dense_blocks_2')(blocks)\n",
    "blocks = BatchNormalization()(blocks)\n",
    "blocks = Dense(8, activation='relu', name='dense_blocks_3')(blocks)\n",
    "blocks = BatchNormalization()(blocks)\n",
    "blocks = Dense(4, activation='relu', name='dense_blocks_4')(blocks)\n",
    "blocks = BatchNormalization()(blocks)\n",
    "blocks = Dense(2, activation='relu', name='dense_blocks_5')(blocks)\n",
    "\n",
    "cars = Conv2D(8, (2, 2), padding='same', name='conv_cars_0')(cars)\n",
    "cars = BatchNormalization()(cars)\n",
    "cars = Conv2D(16, (1, 1), name='conv_cars_1')(cars)\n",
    "cars = BatchNormalization()(cars)\n",
    "cars = MaxPooling2D((2, 2), name='max_cars_1')(cars)\n",
    "cars = Conv2D(32, (1, 1), name='conv_cars_2')(cars)\n",
    "cars = BatchNormalization()(cars)\n",
    "cars = MaxPooling2D((2, 2), name='max_cars_2')(cars)\n",
    "cars = Conv2D(64, (1, 1), name='conv_cars_3')(cars)\n",
    "cars = BatchNormalization()(cars)\n",
    "cars = MaxPooling2D((2, 2), name='max_cars_3')(cars)\n",
    "cars = Flatten(name='flatten_cars')(cars)\n",
    "cars = Dense(8, activation='relu', name='dense_cars_1')(Concatenate()([cars, selfcar]))\n",
    "cars = BatchNormalization()(cars)\n",
    "cars = Dense(4, activation='relu', name='dense_cars_2')(cars)\n",
    "cars = BatchNormalization()(cars)\n",
    "cars = Dense(2, activation='relu', name='dense_cars_3')(cars)\n",
    "\n",
    "all_features = Concatenate(name='all_features')([blocks, cars, selfcar])\n",
    "all_features = BatchNormalization()(all_features)\n",
    "all_features = Dense(8, activation='relu')(all_features)\n",
    "all_features = BatchNormalization()(all_features)\n",
    "all_features = Dense(4, activation='relu')(all_features)\n",
    "all_features = BatchNormalization()(all_features)\n",
    "driving = Dense(2, activation='tanh')(all_features)"
   ]
  },
  {
   "cell_type": "code",
   "execution_count": 330,
   "metadata": {},
   "outputs": [
    {
     "name": "stdout",
     "output_type": "stream",
     "text": [
      "__________________________________________________________________________________________________\n",
      "Layer (type)                    Output Shape         Param #     Connected to                     \n",
      "==================================================================================================\n",
      "raw_input (InputLayer)          (None, 2271)         0                                            \n",
      "__________________________________________________________________________________________________\n",
      "blocks_input_slice (Lambda)     (None, 324)          0           raw_input[0][0]                  \n",
      "__________________________________________________________________________________________________\n",
      "blocks_input_reshape (Reshape)  (None, 18, 18, 1)    0           blocks_input_slice[0][0]         \n",
      "__________________________________________________________________________________________________\n",
      "conv_blocks_0 (Conv2D)          (None, 18, 18, 8)    136         blocks_input_reshape[0][0]       \n",
      "__________________________________________________________________________________________________\n",
      "batch_normalization_446 (BatchN (None, 18, 18, 8)    32          conv_blocks_0[0][0]              \n",
      "__________________________________________________________________________________________________\n",
      "conv_blocks_1 (Conv2D)          (None, 17, 17, 16)   528         batch_normalization_446[0][0]    \n",
      "__________________________________________________________________________________________________\n",
      "batch_normalization_447 (BatchN (None, 17, 17, 16)   64          conv_blocks_1[0][0]              \n",
      "__________________________________________________________________________________________________\n",
      "max_blocks_1 (MaxPooling2D)     (None, 8, 8, 16)     0           batch_normalization_447[0][0]    \n",
      "__________________________________________________________________________________________________\n",
      "cars_input_slice (Lambda)       (None, 1944)         0           raw_input[0][0]                  \n",
      "__________________________________________________________________________________________________\n",
      "conv_blocks_2 (Conv2D)          (None, 7, 7, 32)     2080        max_blocks_1[0][0]               \n",
      "__________________________________________________________________________________________________\n",
      "cars_input_reshape (Reshape)    (None, 18, 18, 6)    0           cars_input_slice[0][0]           \n",
      "__________________________________________________________________________________________________\n",
      "batch_normalization_448 (BatchN (None, 7, 7, 32)     128         conv_blocks_2[0][0]              \n",
      "__________________________________________________________________________________________________\n",
      "conv_cars_0 (Conv2D)            (None, 18, 18, 8)    200         cars_input_reshape[0][0]         \n",
      "__________________________________________________________________________________________________\n",
      "max_blocks_2 (MaxPooling2D)     (None, 3, 3, 32)     0           batch_normalization_448[0][0]    \n",
      "__________________________________________________________________________________________________\n",
      "selfcar_input (Lambda)          (None, 3)            0           raw_input[0][0]                  \n",
      "__________________________________________________________________________________________________\n",
      "batch_normalization_455 (BatchN (None, 18, 18, 8)    32          conv_cars_0[0][0]                \n",
      "__________________________________________________________________________________________________\n",
      "conv_blocks_3 (Conv2D)          (None, 3, 3, 64)     2112        max_blocks_2[0][0]               \n",
      "__________________________________________________________________________________________________\n",
      "batch_normalization_443 (BatchN (None, 3)            12          selfcar_input[0][0]              \n",
      "__________________________________________________________________________________________________\n",
      "conv_cars_1 (Conv2D)            (None, 18, 18, 16)   144         batch_normalization_455[0][0]    \n",
      "__________________________________________________________________________________________________\n",
      "batch_normalization_449 (BatchN (None, 3, 3, 64)     256         conv_blocks_3[0][0]              \n",
      "__________________________________________________________________________________________________\n",
      "dense_selfcar_1 (Dense)         (None, 4)            16          batch_normalization_443[0][0]    \n",
      "__________________________________________________________________________________________________\n",
      "batch_normalization_456 (BatchN (None, 18, 18, 16)   64          conv_cars_1[0][0]                \n",
      "__________________________________________________________________________________________________\n",
      "max_blocks_3 (MaxPooling2D)     (None, 1, 1, 64)     0           batch_normalization_449[0][0]    \n",
      "__________________________________________________________________________________________________\n",
      "batch_normalization_444 (BatchN (None, 4)            16          dense_selfcar_1[0][0]            \n",
      "__________________________________________________________________________________________________\n",
      "max_cars_1 (MaxPooling2D)       (None, 9, 9, 16)     0           batch_normalization_456[0][0]    \n",
      "__________________________________________________________________________________________________\n",
      "conv_blocks_4 (Conv2D)          (None, 1, 1, 128)    8320        max_blocks_3[0][0]               \n",
      "__________________________________________________________________________________________________\n",
      "dense_selfcar_2 (Dense)         (None, 8)            40          batch_normalization_444[0][0]    \n",
      "__________________________________________________________________________________________________\n",
      "conv_cars_2 (Conv2D)            (None, 9, 9, 32)     544         max_cars_1[0][0]                 \n",
      "__________________________________________________________________________________________________\n",
      "batch_normalization_450 (BatchN (None, 1, 1, 128)    512         conv_blocks_4[0][0]              \n",
      "__________________________________________________________________________________________________\n",
      "batch_normalization_445 (BatchN (None, 8)            32          dense_selfcar_2[0][0]            \n",
      "__________________________________________________________________________________________________\n",
      "batch_normalization_457 (BatchN (None, 9, 9, 32)     128         conv_cars_2[0][0]                \n",
      "__________________________________________________________________________________________________\n",
      "flatten_blocks (Flatten)        (None, 128)          0           batch_normalization_450[0][0]    \n",
      "__________________________________________________________________________________________________\n",
      "dense_selfcar_3 (Dense)         (None, 8)            72          batch_normalization_445[0][0]    \n",
      "__________________________________________________________________________________________________\n",
      "max_cars_2 (MaxPooling2D)       (None, 4, 4, 32)     0           batch_normalization_457[0][0]    \n",
      "__________________________________________________________________________________________________\n",
      "concatenate_45 (Concatenate)    (None, 136)          0           flatten_blocks[0][0]             \n",
      "                                                                 dense_selfcar_3[0][0]            \n",
      "__________________________________________________________________________________________________\n",
      "conv_cars_3 (Conv2D)            (None, 4, 4, 64)     2112        max_cars_2[0][0]                 \n",
      "__________________________________________________________________________________________________\n",
      "dense_blocks_1 (Dense)          (None, 32)           4384        concatenate_45[0][0]             \n",
      "__________________________________________________________________________________________________\n",
      "batch_normalization_458 (BatchN (None, 4, 4, 64)     256         conv_cars_3[0][0]                \n",
      "__________________________________________________________________________________________________\n",
      "batch_normalization_451 (BatchN (None, 32)           128         dense_blocks_1[0][0]             \n",
      "__________________________________________________________________________________________________\n",
      "max_cars_3 (MaxPooling2D)       (None, 2, 2, 64)     0           batch_normalization_458[0][0]    \n",
      "__________________________________________________________________________________________________\n",
      "dense_blocks_2 (Dense)          (None, 16)           528         batch_normalization_451[0][0]    \n",
      "__________________________________________________________________________________________________\n",
      "flatten_cars (Flatten)          (None, 256)          0           max_cars_3[0][0]                 \n",
      "__________________________________________________________________________________________________\n",
      "batch_normalization_452 (BatchN (None, 16)           64          dense_blocks_2[0][0]             \n",
      "__________________________________________________________________________________________________\n",
      "concatenate_46 (Concatenate)    (None, 264)          0           flatten_cars[0][0]               \n",
      "                                                                 dense_selfcar_3[0][0]            \n",
      "__________________________________________________________________________________________________\n",
      "dense_blocks_3 (Dense)          (None, 8)            136         batch_normalization_452[0][0]    \n",
      "__________________________________________________________________________________________________\n",
      "dense_cars_1 (Dense)            (None, 8)            2120        concatenate_46[0][0]             \n",
      "__________________________________________________________________________________________________\n",
      "batch_normalization_453 (BatchN (None, 8)            32          dense_blocks_3[0][0]             \n",
      "__________________________________________________________________________________________________\n",
      "batch_normalization_459 (BatchN (None, 8)            32          dense_cars_1[0][0]               \n",
      "__________________________________________________________________________________________________\n",
      "dense_blocks_4 (Dense)          (None, 4)            36          batch_normalization_453[0][0]    \n",
      "__________________________________________________________________________________________________\n",
      "dense_cars_2 (Dense)            (None, 4)            36          batch_normalization_459[0][0]    \n",
      "__________________________________________________________________________________________________\n",
      "batch_normalization_454 (BatchN (None, 4)            16          dense_blocks_4[0][0]             \n",
      "__________________________________________________________________________________________________\n",
      "batch_normalization_460 (BatchN (None, 4)            16          dense_cars_2[0][0]               \n",
      "__________________________________________________________________________________________________\n",
      "dense_blocks_5 (Dense)          (None, 2)            10          batch_normalization_454[0][0]    \n",
      "__________________________________________________________________________________________________\n",
      "dense_cars_3 (Dense)            (None, 2)            10          batch_normalization_460[0][0]    \n",
      "__________________________________________________________________________________________________\n",
      "all_features (Concatenate)      (None, 12)           0           dense_blocks_5[0][0]             \n",
      "                                                                 dense_cars_3[0][0]               \n",
      "                                                                 dense_selfcar_3[0][0]            \n",
      "__________________________________________________________________________________________________\n",
      "batch_normalization_461 (BatchN (None, 12)           48          all_features[0][0]               \n",
      "__________________________________________________________________________________________________\n",
      "dense_270 (Dense)               (None, 8)            104         batch_normalization_461[0][0]    \n",
      "__________________________________________________________________________________________________\n",
      "batch_normalization_462 (BatchN (None, 8)            32          dense_270[0][0]                  \n",
      "__________________________________________________________________________________________________\n",
      "dense_271 (Dense)               (None, 4)            36          batch_normalization_462[0][0]    \n",
      "__________________________________________________________________________________________________\n",
      "batch_normalization_463 (BatchN (None, 4)            16          dense_271[0][0]                  \n",
      "__________________________________________________________________________________________________\n",
      "dense_272 (Dense)               (None, 2)            10          batch_normalization_463[0][0]    \n",
      "==================================================================================================\n",
      "Total params: 25,630\n",
      "Trainable params: 24,672\n",
      "Non-trainable params: 958\n",
      "__________________________________________________________________________________________________\n"
     ]
    }
   ],
   "source": [
    "model = Model(inputs=raw_input, outputs=driving, name='first_try')\n",
    "model.compile(optimizer=Adam(), loss='mean_squared_error', metrics=['accuracy'])\n",
    "model.summary()"
   ]
  },
  {
   "cell_type": "code",
   "execution_count": 369,
   "metadata": {},
   "outputs": [
    {
     "name": "stdout",
     "output_type": "stream",
     "text": [
      "Train on 48093 samples, validate on 2531 samples\n",
      "Epoch 1/3\n",
      "48093/48093 [==============================] - 55s 1ms/step - loss: 0.1336 - acc: 0.7633 - val_loss: 0.1372 - val_acc: 0.7542\n",
      "Epoch 2/3\n",
      "48093/48093 [==============================] - 56s 1ms/step - loss: 0.1326 - acc: 0.7629 - val_loss: 0.1373 - val_acc: 0.7574\n",
      "Epoch 3/3\n",
      "48093/48093 [==============================] - 55s 1ms/step - loss: 0.1326 - acc: 0.7628 - val_loss: 0.1386 - val_acc: 0.7590\n"
     ]
    }
   ],
   "source": [
    "history = model.fit(X_train, Y_train, epochs=3, batch_size=64, validation_data=(X_test, Y_test))"
   ]
  },
  {
   "cell_type": "code",
   "execution_count": 370,
   "metadata": {},
   "outputs": [
    {
     "data": {
      "image/png": "[encoded data removed]",
      "text/plain": [
       "<Figure size 864x288 with 2 Axes>"
      ]
     },
     "metadata": {
      "needs_background": "light"
     },
     "output_type": "display_data"
    }
   ],
   "source": [
    "pyplot.figure(figsize=(12,4))\n",
    "\n",
    "pyplot.subplot(1, 2, 1)\n",
    "pyplot.title('loss')\n",
    "pyplot.plot(history.history['val_loss'], label='test')\n",
    "pyplot.plot(previous_history.history['val_loss'], label='previous test')\n",
    "pyplot.legend()\n",
    "\n",
    "pyplot.subplot(1, 2, 2)\n",
    "pyplot.title('acc')\n",
    "pyplot.plot(history.history['val_acc'], label='test')\n",
    "pyplot.plot(previous_history.history['val_acc'], label='previous test')\n",
    "pyplot.legend()\n",
    "\n",
    "pyplot.show()"
   ]
  },
  {
   "cell_type": "code",
   "execution_count": 371,
   "metadata": {},
   "outputs": [
    {
     "data": {
      "image/png": "[encoded data removed]",
      "text/plain": [
       "<Figure size 864x288 with 2 Axes>"
      ]
     },
     "metadata": {
      "needs_background": "light"
     },
     "output_type": "display_data"
    }
   ],
   "source": [
    "pyplot.figure(figsize=(12,4))\n",
    "\n",
    "pyplot.subplot(1, 2, 1)\n",
    "pyplot.title('loss')\n",
    "pyplot.plot(history.history['loss'], label='train')\n",
    "pyplot.plot(previous_history.history['loss'], label='previous train')\n",
    "pyplot.legend()\n",
    "\n",
    "pyplot.subplot(1, 2, 2)\n",
    "pyplot.title('acc')\n",
    "pyplot.plot(history.history['acc'], label='train')\n",
    "pyplot.plot(previous_history.history['acc'], label='previous train')\n",
    "pyplot.legend()\n",
    "\n",
    "pyplot.show()"
   ]
  },
  {
   "cell_type": "code",
   "execution_count": 372,
   "metadata": {},
   "outputs": [],
   "source": [
    "previous_model = model\n",
    "previous_history = history"
   ]
  },
  {
   "cell_type": "code",
   "execution_count": 373,
   "metadata": {},
   "outputs": [
    {
     "name": "stdout",
     "output_type": "stream",
     "text": [
      "[-0.58368435 -0.06756059]\n",
      "[-0.02537126  0.51426786]\n",
      "---------\n",
      "[-0.26232506 -0.1233192 ]\n",
      "[0.27841747 0.49486244]\n",
      "---------\n",
      "[0.41859833 0.60660943]\n",
      "[0.3180961  0.45976573]\n",
      "---------\n",
      "[-0.7007304  -0.64381203]\n",
      "[0.11359493 0.44077444]\n",
      "---------\n",
      "[-0.04080846  0.6689349 ]\n",
      "[-0.2744051   0.50358117]\n",
      "---------\n"
     ]
    }
   ],
   "source": [
    "for index in range(100, 105):\n",
    "    print(Y_test.values[index])\n",
    "    print(model.predict(X_test.values[index:index+1,:])[0])\n",
    "    print(\"---------\")"
   ]
  },
  {
   "cell_type": "code",
   "execution_count": 378,
   "metadata": {},
   "outputs": [
    {
     "name": "stdout",
     "output_type": "stream",
     "text": [
      "INFO:tensorflow:No assets to save.\n",
      "INFO:tensorflow:No assets to write.\n",
      "INFO:tensorflow:SavedModel written to: models/export/first_try/8/saved_model.pb\n"
     ]
    },
    {
     "data": {
      "text/plain": [
       "b'models/export/first_try/8/saved_model.pb'"
      ]
     },
     "execution_count": 378,
     "metadata": {},
     "output_type": "execute_result"
    }
   ],
   "source": [
    "import os, time\n",
    "from tensorflow.python.saved_model import builder as saved_model_builder\n",
    "from tensorflow.python.saved_model import tag_constants, signature_constants, signature_def_utils_impl\n",
    "\n",
    "prediction_signature = tf.saved_model.signature_def_utils.predict_signature_def(\n",
    "    {\"raw\": model.input},\n",
    "    {\"drive\": model.output}\n",
    ")\n",
    "export_path = os.path.join(\n",
    "    tf.compat.as_bytes('models/export/{}'.format(model.name)),\n",
    "    tf.compat.as_bytes('8')\n",
    ")\n",
    "builder = saved_model_builder.SavedModelBuilder(export_path)\n",
    "sess = K.get_session()\n",
    "builder.add_meta_graph_and_variables(\n",
    "    sess, [tag_constants.SERVING],\n",
    "    signature_def_map={'raw': prediction_signature}\n",
    ")\n",
    "builder.save()"
   ]
  },
  {
   "cell_type": "code",
   "execution_count": 379,
   "metadata": {},
   "outputs": [],
   "source": [
    "with open('%s/model.yaml'% export_path.decode(\"utf-8\"), 'a') as the_file:\n",
    "    the_file.write(model.to_yaml())\n",
    "with open('%s/model.json'% export_path.decode(\"utf-8\"), 'a') as the_file:\n",
    "    the_file.write(model.to_json())\n",
    "model.save('%s/model.h5' % export_path.decode(\"utf-8\"))\n",
    "model.save_weights('%s/weights.h5' % export_path.decode(\"utf-8\"))"
   ]
  },
  {
   "cell_type": "code",
   "execution_count": null,
   "metadata": {},
   "outputs": [],
   "source": []
  }
 ],
 "metadata": {
  "kernelspec": {
   "display_name": "Python 3",
   "language": "python",
   "name": "python3"
  },
  "language_info": {
   "codemirror_mode": {
    "name": "ipython",
    "version": 3
   },
   "file_extension": ".py",
   "mimetype": "text/x-python",
   "name": "python",
   "nbconvert_exporter": "python",
   "pygments_lexer": "ipython3",
   "version": "3.5.2"
  }
 },
 "nbformat": 4,
 "nbformat_minor": 2
}
