{
 "cells": [
  {
   "cell_type": "code",
   "execution_count": 1,
   "metadata": {},
   "outputs": [
    {
     "data": {
      "text/html": [
       "<style>.container { width:100% !important; }</style>"
      ],
      "text/plain": [
       "<IPython.core.display.HTML object>"
      ]
     },
     "metadata": {},
     "output_type": "display_data"
    }
   ],
   "source": [
    "from IPython.core.display import display, HTML\n",
    "display(HTML(\"<style>.container { width:100% !important; }</style>\"))"
   ]
  },
  {
   "cell_type": "code",
   "execution_count": 2,
   "metadata": {},
   "outputs": [
    {
     "name": "stderr",
     "output_type": "stream",
     "text": [
      "Using TensorFlow backend.\n"
     ]
    }
   ],
   "source": [
    "import pandas as pd\n",
    "import numpy as np\n",
    "import tensorflow as tf\n",
    "from keras import backend as K\n",
    "#from tensorflow.python.keras import backend as K\n",
    "import glob\n",
    "from keras.layers import Input, Lambda, Conv2D, MaxPooling2D, Flatten, Concatenate, Dense, BatchNormalization, Dropout, Reshape\n",
    "from keras.models import Model\n",
    "from matplotlib import pyplot"
   ]
  },
  {
   "cell_type": "code",
   "execution_count": 3,
   "metadata": {},
   "outputs": [
    {
     "name": "stdout",
     "output_type": "stream",
     "text": [
      "Loading data/autopilot_2019_03_18__13_17_35.csv\n",
      "Loading data/autopilot_2019_03_18__13_20_22.csv\n",
      "Loading data/autopilot_2019_03_17__02_57_50.csv\n",
      "Loading data/autopilot_2019_03_17__03_55_47.csv\n",
      "Loading data/autopilot_2019_03_18__12_42_35.csv\n",
      "Loading data/autopilot_2019_03_17__03_57_58.csv\n",
      "Loading data/autopilot_2019_03_18__13_19_00.csv\n",
      "Loading data/autopilot_2019_03_17__03_51_44.csv\n",
      "Loading data/autopilot_2019_03_18__13_16_35.csv\n",
      "Loading data/autopilot_2019_03_18__12_44_29.csv\n",
      "Loading data/autopilot_2019_03_18__13_09_23.csv\n",
      "Loading data/autopilot_2019_03_17__03_54_00.csv\n",
      "Loading data/autopilot_2019_03_18__12_43_28.csv\n",
      "Loading data/autopilot_2019_03_17__03_53_15.csv\n",
      "Loading data/autopilot_2019_03_18__12_41_36.csv\n",
      "Loading data/autopilot_2019_03_17__02_59_54.csv\n",
      "Loading data/autopilot_2019_03_18__13_08_17.csv\n",
      "Loading data/autopilot_2019_03_18__12_41_05.csv\n",
      "Loading data/autopilot_2019_03_17__03_54_47.csv\n",
      "Loading data/autopilot_2019_03_17__03_59_32.csv\n",
      "Loading data/autopilot_2019_03_18__13_15_29.csv\n",
      "Loading data/autopilot_2019_03_17__03_57_05.csv\n",
      "Loading data/autopilot_2019_03_17__03_58_42.csv\n",
      "Loading data/autopilot_2019_03_18__13_14_33.csv\n",
      "Loading data/autopilot_2019_03_18__13_10_01.csv\n",
      "Loading data/autopilot_2019_03_17__03_52_34.csv\n",
      "Loading data/autopilot_2019_03_17__02_58_50.csv\n",
      "Loading data/autopilot_2019_03_17__02_57_04.csv\n",
      "Loading data/autopilot_2019_03_18__12_40_09.csv\n"
     ]
    }
   ],
   "source": [
    "all_files = glob.glob(\"data/*.csv\")\n",
    "#all_files = glob.glob(\"data/autopilot_2019_03_18__13_20_22.csv\")\n",
    "\n",
    "li = []\n",
    "for filename in all_files:\n",
    "    print(\"Loading\", filename)\n",
    "    df = pd.read_csv(filename, header=None)\n",
    "    df.drop(df.tail(1).index,inplace=True)\n",
    "    li.append(df)\n",
    "\n",
    "dataset = pd.concat(li, axis=0).sample(frac=1)\n",
    "\n",
    "#DEV TO REDUCE DATASET\n",
    "#dataset = dataset.iloc[:1000,:]\n",
    "\n",
    "Y_data = dataset.iloc[:,-2:]\n",
    "X_data = dataset.iloc[:,:-2]"
   ]
  },
  {
   "cell_type": "code",
   "execution_count": 4,
   "metadata": {},
   "outputs": [
    {
     "name": "stdout",
     "output_type": "stream",
     "text": [
      "2271 feature values\n",
      "2 output values\n",
      "40186 training lines\n",
      "2115 testing lines\n"
     ]
    }
   ],
   "source": [
    "split_offset = int(X_data.shape[0] * .05)\n",
    "Y_test  = Y_data.iloc[:split_offset,:]\n",
    "Y_train = Y_data.iloc[split_offset:,:]\n",
    "X_test  = X_data.iloc[:split_offset,:]\n",
    "X_train = X_data.iloc[split_offset:,:]\n",
    "assert X_train.shape[1] == X_test.shape[1]\n",
    "assert Y_train.shape[1] == Y_test.shape[1]\n",
    "assert X_train.shape[0] == Y_train.shape[0]\n",
    "assert X_test.shape[0] == Y_test.shape[0]\n",
    "print(X_train.shape[1], \"feature values\")\n",
    "print(Y_train.shape[1], \"output values\")\n",
    "print(X_train.shape[0], \"training lines\")\n",
    "print(Y_test.shape[0], \"testing lines\")"
   ]
  },
  {
   "cell_type": "code",
   "execution_count": 5,
   "metadata": {},
   "outputs": [
    {
     "name": "stdout",
     "output_type": "stream",
     "text": [
      "WARNING:tensorflow:From /usr/local/lib/python3.5/dist-packages/tensorflow/python/framework/op_def_library.py:263: colocate_with (from tensorflow.python.framework.ops) is deprecated and will be removed in a future version.\n",
      "Instructions for updating:\n",
      "Colocations handled automatically by placer.\n",
      "WARNING:tensorflow:From /usr/local/lib/python3.5/dist-packages/keras/backend/tensorflow_backend.py:3445: calling dropout (from tensorflow.python.ops.nn_ops) with keep_prob is deprecated and will be removed in a future version.\n",
      "Instructions for updating:\n",
      "Please use `rate` instead of `keep_prob`. Rate should be set to `rate = 1 - keep_prob`.\n"
     ]
    }
   ],
   "source": [
    "first_selfcar_inputs = 3\n",
    "features_by_car = 6\n",
    "cells_by_row = 18\n",
    "car_features = cells_by_row * cells_by_row * features_by_car\n",
    "blocks_offset = first_selfcar_inputs + car_features\n",
    "\n",
    "raw_input = Input(shape=(X_train.shape[1],), name='raw_input')\n",
    "\n",
    "selfcar = Lambda(\n",
    "    lambda x: K.slice(x, [0,0], [-1,first_selfcar_inputs]),\n",
    "    output_shape=(first_selfcar_inputs,),\n",
    "    name='selfcar_input'\n",
    ")(raw_input)\n",
    "\n",
    "blocks = Lambda(\n",
    "    lambda x: K.slice(x, [0,blocks_offset], [-1,-1]),\n",
    "    output_shape=(cells_by_row * cells_by_row,),\n",
    "    name='blocks_input_slice'\n",
    ")(raw_input)\n",
    "\n",
    "blocks = Reshape(\n",
    "    (cells_by_row, cells_by_row, 1,),\n",
    "    input_shape=(cells_by_row, cells_by_row, 1,),\n",
    "    name='blocks_input_reshape'\n",
    ")(blocks)\n",
    "\n",
    "cars = Lambda(\n",
    "    lambda x: K.slice(x, [0,first_selfcar_inputs], [-1,car_features]),\n",
    "    output_shape=(car_features,),\n",
    "    name='cars_input_slice'\n",
    ")(raw_input)\n",
    "\n",
    "cars = Reshape(\n",
    "    (cells_by_row, cells_by_row, features_by_car,),\n",
    "    input_shape=(cells_by_row * cells_by_row * features_by_car,),\n",
    "    name='cars_input_reshape'\n",
    ")(cars)\n",
    "\n",
    "blocks = Conv2D(24, (4, 4), strides=2, name='conv_blocks_1')(blocks)\n",
    "blocks = Dropout(.3)(blocks)\n",
    "blocks = Conv2D(48, (6, 6), name='conv_blocks_2')(blocks)\n",
    "blocks = Flatten(name='flatten_blocks')(blocks)\n",
    "\n",
    "cars = Conv2D(12, (3, 3), name='conv_cars_1')(cars)\n",
    "cars = Dropout(.3)(cars)\n",
    "cars = Conv2D(24, (5, 5), strides=2, name='conv_cars_2')(cars)\n",
    "cars = Flatten(name='flatten_cars')(cars)\n",
    "\n",
    "all_features = Concatenate(name='all_features')([blocks, cars, selfcar])\n",
    "all_features = Dropout(.3)(all_features)\n",
    "all_features = Dense(512, activation='relu')(all_features)\n",
    "all_features = Dropout(.3)(all_features)\n",
    "driving = Dense(2, activation='tanh')(all_features)"
   ]
  },
  {
   "cell_type": "code",
   "execution_count": 8,
   "metadata": {},
   "outputs": [
    {
     "name": "stdout",
     "output_type": "stream",
     "text": [
      "__________________________________________________________________________________________________\n",
      "Layer (type)                    Output Shape         Param #     Connected to                     \n",
      "==================================================================================================\n",
      "raw_input (InputLayer)          (None, 2271)         0                                            \n",
      "__________________________________________________________________________________________________\n",
      "blocks_input_slice (Lambda)     (None, 324)          0           raw_input[0][0]                  \n",
      "__________________________________________________________________________________________________\n",
      "cars_input_slice (Lambda)       (None, 1944)         0           raw_input[0][0]                  \n",
      "__________________________________________________________________________________________________\n",
      "blocks_input_reshape (Reshape)  (None, 18, 18, 1)    0           blocks_input_slice[0][0]         \n",
      "__________________________________________________________________________________________________\n",
      "cars_input_reshape (Reshape)    (None, 18, 18, 6)    0           cars_input_slice[0][0]           \n",
      "__________________________________________________________________________________________________\n",
      "conv_blocks_1 (Conv2D)          (None, 8, 8, 24)     408         blocks_input_reshape[0][0]       \n",
      "__________________________________________________________________________________________________\n",
      "conv_cars_1 (Conv2D)            (None, 16, 16, 12)   660         cars_input_reshape[0][0]         \n",
      "__________________________________________________________________________________________________\n",
      "dropout_1 (Dropout)             (None, 8, 8, 24)     0           conv_blocks_1[0][0]              \n",
      "__________________________________________________________________________________________________\n",
      "dropout_2 (Dropout)             (None, 16, 16, 12)   0           conv_cars_1[0][0]                \n",
      "__________________________________________________________________________________________________\n",
      "conv_blocks_2 (Conv2D)          (None, 3, 3, 48)     41520       dropout_1[0][0]                  \n",
      "__________________________________________________________________________________________________\n",
      "conv_cars_2 (Conv2D)            (None, 6, 6, 24)     7224        dropout_2[0][0]                  \n",
      "__________________________________________________________________________________________________\n",
      "flatten_blocks (Flatten)        (None, 432)          0           conv_blocks_2[0][0]              \n",
      "__________________________________________________________________________________________________\n",
      "flatten_cars (Flatten)          (None, 864)          0           conv_cars_2[0][0]                \n",
      "__________________________________________________________________________________________________\n",
      "selfcar_input (Lambda)          (None, 3)            0           raw_input[0][0]                  \n",
      "__________________________________________________________________________________________________\n",
      "all_features (Concatenate)      (None, 1299)         0           flatten_blocks[0][0]             \n",
      "                                                                 flatten_cars[0][0]               \n",
      "                                                                 selfcar_input[0][0]              \n",
      "__________________________________________________________________________________________________\n",
      "dropout_3 (Dropout)             (None, 1299)         0           all_features[0][0]               \n",
      "__________________________________________________________________________________________________\n",
      "dense_1 (Dense)                 (None, 512)          665600      dropout_3[0][0]                  \n",
      "__________________________________________________________________________________________________\n",
      "dropout_4 (Dropout)             (None, 512)          0           dense_1[0][0]                    \n",
      "__________________________________________________________________________________________________\n",
      "dense_2 (Dense)                 (None, 2)            1026        dropout_4[0][0]                  \n",
      "==================================================================================================\n",
      "Total params: 716,438\n",
      "Trainable params: 716,438\n",
      "Non-trainable params: 0\n",
      "__________________________________________________________________________________________________\n"
     ]
    }
   ],
   "source": [
    "model = Model(inputs=raw_input, outputs=driving, name='first_try')\n",
    "model.compile(optimizer='adam', loss='mean_squared_error', metrics=['accuracy'])\n",
    "model.summary()"
   ]
  },
  {
   "cell_type": "code",
   "execution_count": 9,
   "metadata": {},
   "outputs": [
    {
     "name": "stdout",
     "output_type": "stream",
     "text": [
      "WARNING:tensorflow:From /usr/local/lib/python3.5/dist-packages/tensorflow/python/ops/math_ops.py:3066: to_int32 (from tensorflow.python.ops.math_ops) is deprecated and will be removed in a future version.\n",
      "Instructions for updating:\n",
      "Use tf.cast instead.\n",
      "Train on 40186 samples, validate on 2115 samples\n",
      "Epoch 1/10\n",
      "40186/40186 [==============================] - 22s 548us/step - loss: 0.1823 - acc: 0.7263 - val_loss: 0.1631 - val_acc: 0.7357\n",
      "Epoch 2/10\n",
      "40186/40186 [==============================] - 23s 562us/step - loss: 0.1627 - acc: 0.7365 - val_loss: 0.1578 - val_acc: 0.7381\n",
      "Epoch 3/10\n",
      "40186/40186 [==============================] - 22s 555us/step - loss: 0.1585 - acc: 0.7413 - val_loss: 0.1561 - val_acc: 0.7385\n",
      "Epoch 4/10\n",
      "40186/40186 [==============================] - 22s 555us/step - loss: 0.1564 - acc: 0.7424 - val_loss: 0.1549 - val_acc: 0.7428\n",
      "Epoch 5/10\n",
      "40186/40186 [==============================] - 22s 551us/step - loss: 0.1547 - acc: 0.7433 - val_loss: 0.1544 - val_acc: 0.7475\n",
      "Epoch 6/10\n",
      "40186/40186 [==============================] - 22s 560us/step - loss: 0.1531 - acc: 0.7460 - val_loss: 0.1545 - val_acc: 0.7390\n",
      "Epoch 7/10\n",
      "40186/40186 [==============================] - 23s 563us/step - loss: 0.1508 - acc: 0.7473 - val_loss: 0.1544 - val_acc: 0.7381\n",
      "Epoch 8/10\n",
      "40186/40186 [==============================] - 23s 563us/step - loss: 0.1493 - acc: 0.7474 - val_loss: 0.1531 - val_acc: 0.7409\n",
      "Epoch 9/10\n",
      "40186/40186 [==============================] - 22s 556us/step - loss: 0.1479 - acc: 0.7481 - val_loss: 0.1530 - val_acc: 0.7428\n",
      "Epoch 10/10\n",
      "40186/40186 [==============================] - 23s 563us/step - loss: 0.1458 - acc: 0.7492 - val_loss: 0.1530 - val_acc: 0.7395\n"
     ]
    }
   ],
   "source": [
    "history = model.fit(X_train, Y_train, epochs=10, batch_size=64, validation_data=(X_test, Y_test))"
   ]
  },
  {
   "cell_type": "code",
   "execution_count": 10,
   "metadata": {},
   "outputs": [
    {
     "data": {
      "image/png": "[encoded data removed]",
      "text/plain": [
       "<Figure size 432x288 with 1 Axes>"
      ]
     },
     "metadata": {
      "needs_background": "light"
     },
     "output_type": "display_data"
    }
   ],
   "source": [
    "pyplot.title('loss')\n",
    "pyplot.plot(history.history['loss'], label='train')\n",
    "pyplot.plot(history.history['val_loss'], label='test')\n",
    "pyplot.legend()\n",
    "pyplot.show()"
   ]
  },
  {
   "cell_type": "code",
   "execution_count": 11,
   "metadata": {},
   "outputs": [
    {
     "data": {
      "image/png": "[encoded data removed]",
      "text/plain": [
       "<Figure size 432x288 with 1 Axes>"
      ]
     },
     "metadata": {
      "needs_background": "light"
     },
     "output_type": "display_data"
    }
   ],
   "source": [
    "pyplot.title('accuracy')\n",
    "pyplot.plot(history.history['acc'], label='train')\n",
    "pyplot.plot(history.history['val_acc'], label='test')\n",
    "pyplot.legend()\n",
    "pyplot.show()"
   ]
  },
  {
   "cell_type": "code",
   "execution_count": 12,
   "metadata": {},
   "outputs": [
    {
     "name": "stdout",
     "output_type": "stream",
     "text": [
      "[ 0.45696872 -0.75256492]\n",
      "[0.03749104 0.22736354]\n",
      "---------\n",
      "[-0.08436176  0.61051122]\n",
      "[-0.05141671  0.46655667]\n",
      "---------\n",
      "[0.20783049 0.69163082]\n",
      "[0.00065099 0.4239106 ]\n",
      "---------\n",
      "[-0.63945812  0.52776239]\n",
      "[-0.11975555  0.47938183]\n",
      "---------\n",
      "[ 0.6167899  -0.41631181]\n",
      "[-0.01646869  0.37334648]\n",
      "---------\n"
     ]
    }
   ],
   "source": [
    "for index in range(0, 5):\n",
    "    print(Y_test.values[index])\n",
    "    print(model.predict(X_test.values[index:index+1,:])[0])\n",
    "    print(\"---------\")"
   ]
  },
  {
   "cell_type": "code",
   "execution_count": 18,
   "metadata": {},
   "outputs": [
    {
     "name": "stdout",
     "output_type": "stream",
     "text": [
      "INFO:tensorflow:No assets to save.\n",
      "INFO:tensorflow:No assets to write.\n",
      "INFO:tensorflow:SavedModel written to: models/export/first_try/2/saved_model.pb\n"
     ]
    },
    {
     "data": {
      "text/plain": [
       "b'models/export/first_try/2/saved_model.pb'"
      ]
     },
     "execution_count": 18,
     "metadata": {},
     "output_type": "execute_result"
    }
   ],
   "source": [
    "import os, time\n",
    "from tensorflow.python.saved_model import builder as saved_model_builder\n",
    "from tensorflow.python.saved_model import tag_constants, signature_constants, signature_def_utils_impl\n",
    "\n",
    "prediction_signature = tf.saved_model.signature_def_utils.predict_signature_def(\n",
    "    {\"raw\": model.input},\n",
    "    {\"drive\": model.output}\n",
    ")\n",
    "export_path = os.path.join(\n",
    "    tf.compat.as_bytes('models/export/{}'.format(model.name)),\n",
    "    tf.compat.as_bytes('2')\n",
    ")\n",
    "builder = saved_model_builder.SavedModelBuilder(export_path)\n",
    "sess = K.get_session()\n",
    "builder.add_meta_graph_and_variables(\n",
    "    sess, [tag_constants.SERVING],\n",
    "    signature_def_map={'raw': prediction_signature}\n",
    ")\n",
    "builder.save()"
   ]
  },
  {
   "cell_type": "code",
   "execution_count": null,
   "metadata": {},
   "outputs": [],
   "source": []
  }
 ],
 "metadata": {
  "kernelspec": {
   "display_name": "Python 3",
   "language": "python",
   "name": "python3"
  },
  "language_info": {
   "codemirror_mode": {
    "name": "ipython",
    "version": 3
   },
   "file_extension": ".py",
   "mimetype": "text/x-python",
   "name": "python",
   "nbconvert_exporter": "python",
   "pygments_lexer": "ipython3",
   "version": "3.5.2"
  }
 },
 "nbformat": 4,
 "nbformat_minor": 2
}
